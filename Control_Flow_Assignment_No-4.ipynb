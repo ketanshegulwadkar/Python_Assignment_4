{
 "cells": [
  {
   "cell_type": "raw",
   "id": "33ffcd9f-2735-4e9c-bccb-6172d292bf24",
   "metadata": {},
   "source": [
    "                                                                                CONTROL FLOW PROGRAMS"
   ]
  },
  {
   "cell_type": "raw",
   "id": "43c051b4-e8d3-46ec-8cce-e9f93b123bb5",
   "metadata": {},
   "source": [
    "> Basic If-Else Statements:"
   ]
  },
  {
   "cell_type": "code",
   "execution_count": 2,
   "id": "40ac0183-ebb2-4574-9588-fbdf21093a1c",
   "metadata": {},
   "outputs": [
    {
     "name": "stdin",
     "output_type": "stream",
     "text": [
      "Enter a number:  15\n"
     ]
    },
    {
     "name": "stdout",
     "output_type": "stream",
     "text": [
      "The number is positive.\n"
     ]
    }
   ],
   "source": [
    "'''1. Write a Python program to check if a given number is positive or negative.'''\n",
    "\n",
    "# Input: Get the number from the user\n",
    "number = float(input(\"Enter a number: \"))\n",
    "\n",
    "# Check if the number is positive, negative, or zero\n",
    "if number > 0:\n",
    "    print(\"The number is positive.\")\n",
    "elif number < 0:\n",
    "    print(\"The number is negative.\")\n",
    "else:\n",
    "    print(\"The number is zero.\")"
   ]
  },
  {
   "cell_type": "code",
   "execution_count": 7,
   "id": "f49e225d-ee02-4cdd-ac93-9ad238c468d1",
   "metadata": {},
   "outputs": [
    {
     "name": "stdin",
     "output_type": "stream",
     "text": [
      "Enter your age:  21\n"
     ]
    },
    {
     "name": "stdout",
     "output_type": "stream",
     "text": [
      "You are eligible to vote.\n"
     ]
    }
   ],
   "source": [
    "'''2. Create a program that determines if a person is eligible to vote based on their age.'''\n",
    "\n",
    "# Input: Get the number from the user\n",
    "age = int(input(\"Enter your age: \"))\n",
    "\n",
    "# Check if the person age is eligible for voting\n",
    "if age >= 18 :\n",
    "    print(\"You are eligible to vote.\")\n",
    "else:\n",
    "    print(\"You are not eligible to vote.\")"
   ]
  },
  {
   "cell_type": "code",
   "execution_count": 8,
   "id": "26be3815-69a4-4b74-ad0e-dcf96ff9aa7a",
   "metadata": {},
   "outputs": [
    {
     "name": "stdin",
     "output_type": "stream",
     "text": [
      "Enter the first number:  18\n",
      "Enter the second number:  21\n"
     ]
    },
    {
     "name": "stdout",
     "output_type": "stream",
     "text": [
      "The maximum of 18.0 and 21.0 is: 21.0\n"
     ]
    }
   ],
   "source": [
    "'''3. Develop a program to find the maximum of two numbers using if-else statements.'''\n",
    "\n",
    "# Input: Get two numbers from the user\n",
    "number1 = float(input(\"Enter the first number: \"))\n",
    "number2 = float(input(\"Enter the second number: \"))\n",
    "\n",
    "# Find the maximum of the two numbers using if-else statements\n",
    "if number1 > number2:\n",
    "    maximum = number1\n",
    "else:\n",
    "    maximum = number2\n",
    "\n",
    "# Display the result\n",
    "print(f\"The maximum of {number1} and {number2} is: {maximum}\")"
   ]
  },
  {
   "cell_type": "code",
   "execution_count": 9,
   "id": "a8ff9bda-7ba3-441d-872e-05f0bfa226d5",
   "metadata": {},
   "outputs": [
    {
     "name": "stdin",
     "output_type": "stream",
     "text": [
      "Enter a year:  2023\n"
     ]
    },
    {
     "name": "stdout",
     "output_type": "stream",
     "text": [
      "2023 is not a leap year.\n"
     ]
    }
   ],
   "source": [
    "'''4. Write a Python script to classify a given year as a leap year or not.'''\n",
    "\n",
    "# Input: Get the year from the user\n",
    "year = int(input(\"Enter a year: \"))\n",
    "\n",
    "# Check if the year is a leap year using if-else statements\n",
    "if (year % 4 == 0 and year % 100 != 0) or (year % 400 == 0):\n",
    "    print(f\"{year} is a leap year.\")\n",
    "else:\n",
    "    print(f\"{year} is not a leap year.\")"
   ]
  },
  {
   "cell_type": "code",
   "execution_count": 18,
   "id": "99b8caf3-4701-42bc-a6bb-c74f06abec77",
   "metadata": {},
   "outputs": [
    {
     "name": "stdin",
     "output_type": "stream",
     "text": [
      "Enter a character:  U\n"
     ]
    },
    {
     "name": "stdout",
     "output_type": "stream",
     "text": [
      "The character U is a vowel.\n"
     ]
    }
   ],
   "source": [
    "'''5. Create a program that checks whether a character is a vowel or a consonant.'''\n",
    "\n",
    "# Input: Get a character from the user\n",
    "character = input(\"Enter a character: \")\n",
    "\n",
    "# Check if the character is a vowel or a consonant using if-else statements\n",
    "if character.lower() in 'aeiou':\n",
    "    print(f\"The character {character} is a vowel.\")\n",
    "else:\n",
    "    print(f\"The character {character} is a consonant.\")"
   ]
  },
  {
   "cell_type": "code",
   "execution_count": 19,
   "id": "9cc6276c-1986-43d7-a1c8-06887805921f",
   "metadata": {},
   "outputs": [
    {
     "name": "stdin",
     "output_type": "stream",
     "text": [
      "Enter a number:  29\n"
     ]
    },
    {
     "name": "stdout",
     "output_type": "stream",
     "text": [
      "The number 29 is odd.\n"
     ]
    }
   ],
   "source": [
    "'''6. Implement a program to determine whether a given number is even or odd.'''\n",
    "\n",
    "# Input: Get a number from the user\n",
    "number = int(input(\"Enter a number: \"))\n",
    "\n",
    "# Check if the number is even or odd using if-else statements\n",
    "if number % 2 == 0:\n",
    "    print(f\"The number {number} is even.\")\n",
    "else:\n",
    "    print(f\"The number {number} is odd.\")"
   ]
  },
  {
   "cell_type": "code",
   "execution_count": 21,
   "id": "8233a96d-0e07-4779-96b0-204ce438799a",
   "metadata": {},
   "outputs": [
    {
     "name": "stdin",
     "output_type": "stream",
     "text": [
      "Enter a number:  -1\n"
     ]
    },
    {
     "name": "stdout",
     "output_type": "stream",
     "text": [
      "The absolute value of -1.0 is: 1.0\n"
     ]
    }
   ],
   "source": [
    "'''7. Write a Python function to calculate the absolute value of a number without using the `abs()` function.'''\n",
    "\n",
    "def absolute_value(number):\n",
    "    # Calculate the absolute value without using abs() function\n",
    "    if number < 0:\n",
    "        return -number\n",
    "    else:\n",
    "        return number\n",
    "\n",
    "# Example usage:\n",
    "num = float(input(\"Enter a number: \"))\n",
    "result = absolute_value(num)\n",
    "print(f\"The absolute value of {num} is: {result}\")"
   ]
  },
  {
   "cell_type": "code",
   "execution_count": 22,
   "id": "583bf0a1-5226-4e03-a451-69255de67d79",
   "metadata": {},
   "outputs": [
    {
     "name": "stdin",
     "output_type": "stream",
     "text": [
      "Enter the first number:  56\n",
      "Enter the second number:  58\n",
      "Enter the third number:  60\n"
     ]
    },
    {
     "name": "stdout",
     "output_type": "stream",
     "text": [
      "The largest of 56.0, 58.0, and 60.0 is: 60.0\n"
     ]
    }
   ],
   "source": [
    "'''8. Develop a program that determines the largest of three given numbers using if-else statements.'''\n",
    "\n",
    "# Input: Get three numbers from the user\n",
    "number1 = float(input(\"Enter the first number: \"))\n",
    "number2 = float(input(\"Enter the second number: \"))\n",
    "number3 = float(input(\"Enter the third number: \"))\n",
    "\n",
    "# Determine the largest of the three numbers using if-else statements\n",
    "if number1 >= number2 and number1 >= number3:\n",
    "    largest = number1\n",
    "elif number2 >= number1 and number2 >= number3:\n",
    "    largest = number2\n",
    "else:\n",
    "    largest = number3\n",
    "\n",
    "# Display the result\n",
    "print(f\"The largest of {number1}, {number2}, and {number3} is: {largest}\")"
   ]
  },
  {
   "cell_type": "code",
   "execution_count": 24,
   "id": "12afc875-ccd7-47d0-af21-4e9393dfb87c",
   "metadata": {},
   "outputs": [
    {
     "name": "stdin",
     "output_type": "stream",
     "text": [
      "Enter a string:  Mom\n"
     ]
    },
    {
     "name": "stdout",
     "output_type": "stream",
     "text": [
      "Mom is a palindrome.\n"
     ]
    }
   ],
   "source": [
    "'''9. Create a program that checks if a given string is a palindrome.'''\n",
    "\n",
    "def is_palindrome(string):\n",
    "    # Remove spaces and convert to lowercase for case-insensitive comparison\n",
    "    clean_string = ''.join(string.split()).lower()\n",
    "\n",
    "    # Check if the cleaned string is equal to its reverse\n",
    "    return clean_string == clean_string[::-1]\n",
    "\n",
    "# Example usage:\n",
    "input_string = input(\"Enter a string: \")\n",
    "if is_palindrome(input_string):\n",
    "    print(f\"{input_string} is a palindrome.\")\n",
    "else:\n",
    "    print(f\"{input_string} is not a palindrome.\")"
   ]
  },
  {
   "cell_type": "code",
   "execution_count": 25,
   "id": "2eab0895-db83-4425-9925-9d0e570cfcd8",
   "metadata": {},
   "outputs": [
    {
     "name": "stdin",
     "output_type": "stream",
     "text": [
      "Enter the student's score:  80\n"
     ]
    },
    {
     "name": "stdout",
     "output_type": "stream",
     "text": [
      "The student's grade for a score of 80.0 is: B\n"
     ]
    }
   ],
   "source": [
    "'''10. Write a Python program to calculate the grade based on a student's score.'''\n",
    "\n",
    "# Input: Get the student's score from the user\n",
    "score = float(input(\"Enter the student's score: \"))\n",
    "\n",
    "# Calculate the grade based on the score using if-else statements\n",
    "if 90 <= score <= 100:\n",
    "    grade = 'A'\n",
    "elif 80 <= score < 90:\n",
    "    grade = 'B'\n",
    "elif 70 <= score < 80:\n",
    "    grade = 'C'\n",
    "elif 60 <= score < 70:\n",
    "    grade = 'D'\n",
    "elif 0 <= score < 60:\n",
    "    grade = 'F'\n",
    "else:\n",
    "    print(\"Invalid score. Please enter a score between 0 and 100.\")\n",
    "    exit()\n",
    "\n",
    "# Display the result\n",
    "print(f\"The student's grade for a score of {score} is: {grade}\")"
   ]
  },
  {
   "cell_type": "raw",
   "id": "5c1a2b85-83fc-4c99-a808-e58f140ead94",
   "metadata": {},
   "source": [
    "> Nested If-Else Statements:"
   ]
  },
  {
   "cell_type": "code",
   "execution_count": 26,
   "id": "e504aff9-dcef-476f-9409-1a157b59717f",
   "metadata": {},
   "outputs": [
    {
     "name": "stdin",
     "output_type": "stream",
     "text": [
      "Enter the first number:  10\n",
      "Enter the second number:  20\n",
      "Enter the third number:  30\n"
     ]
    },
    {
     "name": "stdout",
     "output_type": "stream",
     "text": [
      "The largest of 10.0, 20.0, and 30.0 is: 30.0\n"
     ]
    }
   ],
   "source": [
    "'''11. Write a program to find the largest among three numbers using nested if-else statements.'''\n",
    "\n",
    "# Input: Get three numbers from the user\n",
    "number1 = float(input(\"Enter the first number: \"))\n",
    "number2 = float(input(\"Enter the second number: \"))\n",
    "number3 = float(input(\"Enter the third number: \"))\n",
    "\n",
    "# Determine the largest of the three numbers using nested if-else statements\n",
    "if number1 >= number2:\n",
    "    if number1 >= number3:\n",
    "        largest = number1\n",
    "    else:\n",
    "        largest = number3\n",
    "else:\n",
    "    if number2 >= number3:\n",
    "        largest = number2\n",
    "    else:\n",
    "        largest = number3\n",
    "\n",
    "# Display the result\n",
    "print(f\"The largest of {number1}, {number2}, and {number3} is: {largest}\")"
   ]
  },
  {
   "cell_type": "code",
   "execution_count": 27,
   "id": "bb575b05-d0bd-41c5-8860-cc4ebe401e14",
   "metadata": {},
   "outputs": [
    {
     "name": "stdin",
     "output_type": "stream",
     "text": [
      "Enter the length of the first side:  5\n",
      "Enter the length of the second side:  6\n",
      "Enter the length of the third side:  7\n"
     ]
    },
    {
     "name": "stdout",
     "output_type": "stream",
     "text": [
      "The triangle with sides 5.0, 6.0, and 7.0 is: Scalene\n"
     ]
    }
   ],
   "source": [
    "'''12. Implement a program to determine if a triangle is equilateral, isosceles, or scalene.'''\n",
    "\n",
    "# Input: Get the lengths of the three sides of the triangle from the user\n",
    "side1 = float(input(\"Enter the length of the first side: \"))\n",
    "side2 = float(input(\"Enter the length of the second side: \"))\n",
    "side3 = float(input(\"Enter the length of the third side: \"))\n",
    "\n",
    "# Determine the type of triangle using if-else statements\n",
    "if side1 == side2 == side3:\n",
    "    triangle_type = \"Equilateral\"\n",
    "elif side1 == side2 or side1 == side3 or side2 == side3:\n",
    "    triangle_type = \"Isosceles\"\n",
    "else:\n",
    "    triangle_type = \"Scalene\"\n",
    "\n",
    "# Display the result\n",
    "print(f\"The triangle with sides {side1}, {side2}, and {side3} is: {triangle_type}\")"
   ]
  },
  {
   "cell_type": "code",
   "execution_count": 7,
   "id": "9a19479e-e153-409e-b100-0ed0e8578003",
   "metadata": {},
   "outputs": [
    {
     "name": "stdin",
     "output_type": "stream",
     "text": [
      "Enter a year:  2024\n"
     ]
    },
    {
     "name": "stdout",
     "output_type": "stream",
     "text": [
      "2024 is a leap year.\n",
      "2024 is not a century year.\n"
     ]
    }
   ],
   "source": [
    "'''13. Develop a program that checks if a year is a leap year and also if it is a century year.'''\n",
    "\n",
    "# Input: Get the year from the user\n",
    "year = int(input(\"Enter a year: \"))\n",
    "\n",
    "# Check if the year is a leap year using if-else statements\n",
    "if (year % 4 == 0 and year % 100 != 0) or (year % 400 == 0):\n",
    "    leap_year = True\n",
    "else:\n",
    "    leap_year = False\n",
    "\n",
    "# Check if the year is a century year\n",
    "is_century_year = year % 100 == 0\n",
    "\n",
    "# Display the result\n",
    "if leap_year:\n",
    "    print(f\"{year} is a leap year.\")\n",
    "    if is_century_year:\n",
    "        print(f\"{year} is also a century year.\")\n",
    "    else:\n",
    "        print(f\"{year} is not a century year.\")\n",
    "else:\n",
    "    print(f\"{year} is not a leap year.\")\n"
   ]
  },
  {
   "cell_type": "code",
   "execution_count": 3,
   "id": "5b3e7c6b-8ff9-4553-8fb3-d074d8b2112c",
   "metadata": {},
   "outputs": [
    {
     "name": "stdin",
     "output_type": "stream",
     "text": [
      "Enter a number:  -5\n"
     ]
    },
    {
     "name": "stdout",
     "output_type": "stream",
     "text": [
      "The number is negative.\n"
     ]
    }
   ],
   "source": [
    "'''14. Write a Python script to determine if a number is positive, negative, or zero.'''\n",
    "\n",
    "# Input: Get a number from the user\n",
    "number = float(input(\"Enter a number: \"))\n",
    "\n",
    "# Determine if the number is positive, negative, or zero using if-else statements\n",
    "if number > 0:\n",
    "    print(\"The number is positive.\")\n",
    "elif number < 0:\n",
    "    print(\"The number is negative.\")\n",
    "else:\n",
    "    print(\"The number is zero.\")"
   ]
  },
  {
   "cell_type": "code",
   "execution_count": 5,
   "id": "287f2817-6b85-4151-a2c9-9549d519f121",
   "metadata": {},
   "outputs": [
    {
     "name": "stdin",
     "output_type": "stream",
     "text": [
      "Enter your age:  18\n"
     ]
    },
    {
     "name": "stdout",
     "output_type": "stream",
     "text": [
      "You are a teenager.\n"
     ]
    }
   ],
   "source": [
    "'''15. Create a program to check if a person is a teenager (between 13 and 19 years old).'''\n",
    "\n",
    "# Input: Get the age from the user\n",
    "age = int(input(\"Enter your age: \"))\n",
    "\n",
    "# Check if the person is a teenager using if-else statements\n",
    "if 13 <= age <= 19:\n",
    "    print(\"You are a teenager.\")\n",
    "else:\n",
    "    print(\"You are not a teenager.\")"
   ]
  },
  {
   "cell_type": "code",
   "execution_count": 9,
   "id": "f2c3fa68-f3ec-46a9-a51c-54fdc8df3358",
   "metadata": {},
   "outputs": [
    {
     "name": "stdin",
     "output_type": "stream",
     "text": [
      "Enter the measure of the angle in degrees:  90\n"
     ]
    },
    {
     "name": "stdout",
     "output_type": "stream",
     "text": [
      "The angle with measure 90.0 degrees is an right angle.\n"
     ]
    }
   ],
   "source": [
    "'''16. Develop a program that determines the type of angle based on its measure (acute, obtuse, or right).'''\n",
    "\n",
    "# Input: Get the angle measure from the user\n",
    "angle_measure = float(input(\"Enter the measure of the angle in degrees: \"))\n",
    "\n",
    "# Determine the type of angle using if-else statements\n",
    "if 0 < angle_measure < 90:\n",
    "    angle_type = \"acute\"\n",
    "elif angle_measure == 90:\n",
    "    angle_type = \"right\"\n",
    "elif 90 < angle_measure < 180:\n",
    "    angle_type = \"obtuse\"\n",
    "else:\n",
    "    angle_type = \"invalid (not within the range of 0 to 180 degrees)\"\n",
    "\n",
    "# Display the result\n",
    "print(f\"The angle with measure {angle_measure} degrees is an {angle_type} angle.\")"
   ]
  },
  {
   "cell_type": "code",
   "execution_count": 12,
   "id": "c74464b5-f192-479e-98f8-802976e7f779",
   "metadata": {},
   "outputs": [
    {
     "name": "stdin",
     "output_type": "stream",
     "text": [
      "Enter the coefficient a:  2\n",
      "Enter the coefficient b:  4\n",
      "Enter the coefficient c:  6\n"
     ]
    },
    {
     "name": "stdout",
     "output_type": "stream",
     "text": [
      "The roots are complex: -1.0 + 1.4142135623730951i and -1.0 - 1.4142135623730951i\n"
     ]
    }
   ],
   "source": [
    "'''17. Write a Python program to calculate the roots of a quadratic equation.'''\n",
    "\n",
    "import math\n",
    "\n",
    "# Input: Get the coefficients from the user\n",
    "a = float(input(\"Enter the coefficient a: \"))\n",
    "b = float(input(\"Enter the coefficient b: \"))\n",
    "c = float(input(\"Enter the coefficient c: \"))\n",
    "\n",
    "# Calculate the discriminant\n",
    "discriminant = b**2 - 4*a*c\n",
    "\n",
    "# Check the nature of the roots using if-else statements\n",
    "if discriminant > 0:\n",
    "    root1 = (-b + math.sqrt(discriminant)) / (2*a)\n",
    "    root2 = (-b - math.sqrt(discriminant)) / (2*a)\n",
    "    print(f\"The roots are real and distinct: {root1} and {root2}\")\n",
    "elif discriminant == 0:\n",
    "    root = -b / (2*a)\n",
    "    print(f\"The root is real and equal: {root}\")\n",
    "else:\n",
    "    real_part = -b / (2*a)\n",
    "    imaginary_part = math.sqrt(abs(discriminant)) / (2*a)\n",
    "    root1 = f\"{real_part} + {imaginary_part}i\"\n",
    "    root2 = f\"{real_part} - {imaginary_part}i\"\n",
    "    print(f\"The roots are complex: {root1} and {root2}\")"
   ]
  },
  {
   "cell_type": "code",
   "execution_count": 1,
   "id": "de02a9b9-0adb-4c7a-931a-210cb5bb83ea",
   "metadata": {},
   "outputs": [
    {
     "name": "stdin",
     "output_type": "stream",
     "text": [
      "Enter a number (1 for Monday, 2 for Tuesday, etc.):  5\n"
     ]
    },
    {
     "name": "stdout",
     "output_type": "stream",
     "text": [
      "The day corresponding to the number 5 is: Friday\n"
     ]
    }
   ],
   "source": [
    "'''18. Implement a program to determine the day of the week based on a user-provided number (1 for Monday, 2 for Tuesday, etc.).'''\n",
    "\n",
    "# Input: Get the day number from the user\n",
    "day_number = int(input(\"Enter a number (1 for Monday, 2 for Tuesday, etc.): \"))\n",
    "\n",
    "# Determine the day of the week using if-else statements\n",
    "if day_number == 1:\n",
    "    day = \"Monday\"\n",
    "elif day_number == 2:\n",
    "    day = \"Tuesday\"\n",
    "elif day_number == 3:\n",
    "    day = \"Wednesday\"\n",
    "elif day_number == 4:\n",
    "    day = \"Thursday\"\n",
    "elif day_number == 5:\n",
    "    day = \"Friday\"\n",
    "elif day_number == 6:\n",
    "    day = \"Saturday\"\n",
    "elif day_number == 7:\n",
    "    day = \"Sunday\"\n",
    "else:\n",
    "    day = \"Invalid input. Please enter a number between 1 and 7.\"\n",
    "\n",
    "# Display the result\n",
    "print(f\"The day corresponding to the number {day_number} is: {day}\")"
   ]
  },
  {
   "cell_type": "code",
   "execution_count": 2,
   "id": "34c12a79-bc3a-4f7b-9c17-cae4dc3148db",
   "metadata": {},
   "outputs": [
    {
     "name": "stdin",
     "output_type": "stream",
     "text": [
      "Enter a year:  2024\n"
     ]
    },
    {
     "name": "stdout",
     "output_type": "stream",
     "text": [
      "2024 is a leap year and is evenly divisible by 400.\n"
     ]
    }
   ],
   "source": [
    "'''19. Create a program that determines if a year is a leap year and also if it is evenly divisible by 400.'''\n",
    "\n",
    "# Input: Get the year from the user\n",
    "year = int(input(\"Enter a year: \"))\n",
    "\n",
    "# Check if the year is a leap year and evenly divisible by 400 using if-else statements\n",
    "if (year % 4 == 0 and year % 100 != 0) or (year % 400 == 0):\n",
    "    leap_year = True\n",
    "else:\n",
    "    leap_year = False\n",
    "\n",
    "# Display the result\n",
    "if leap_year:\n",
    "    print(f\"{year} is a leap year and is evenly divisible by 400.\")\n",
    "else:\n",
    "    print(f\"{year} is not a leap year or is not evenly divisible by 400.\")\n",
    "\n"
   ]
  },
  {
   "cell_type": "code",
   "execution_count": 3,
   "id": "7468e7f2-b4a7-42f6-8346-2b4a55f4e1b0",
   "metadata": {},
   "outputs": [
    {
     "name": "stdin",
     "output_type": "stream",
     "text": [
      "Enter a number:  17\n"
     ]
    },
    {
     "name": "stdout",
     "output_type": "stream",
     "text": [
      "17 is a prime number.\n"
     ]
    }
   ],
   "source": [
    "'''20. Develop a program that checks if a given number is prime or not using nested if-else statements.'''\n",
    "\n",
    "# Input: Get the number from the user\n",
    "number = int(input(\"Enter a number: \"))\n",
    "\n",
    "# Check if the number is prime using nested if-else statements\n",
    "if number > 1:\n",
    "    # Check for factors from 2 to the square root of the number\n",
    "    for i in range(2, int(number**0.5) + 1):\n",
    "        if number % i == 0:\n",
    "            is_prime = False\n",
    "            break\n",
    "    else:\n",
    "        is_prime = True\n",
    "else:\n",
    "    is_prime = False\n",
    "\n",
    "# Display the result\n",
    "if is_prime:\n",
    "    print(f\"{number} is a prime number.\")\n",
    "else:\n",
    "    print(f\"{number} is not a prime number.\")"
   ]
  },
  {
   "cell_type": "raw",
   "id": "7ac81cba-f4d2-4634-9f54-4e5d5c43bfe4",
   "metadata": {},
   "source": [
    "> Elif Statements:"
   ]
  },
  {
   "cell_type": "code",
   "execution_count": 4,
   "id": "14e5509e-c140-4d8a-8f8d-e8e39b02b2fd",
   "metadata": {},
   "outputs": [
    {
     "name": "stdin",
     "output_type": "stream",
     "text": [
      "Enter the student's score:  70\n"
     ]
    },
    {
     "name": "stdout",
     "output_type": "stream",
     "text": [
      "The student's grade for a score of 70.0 is: C\n"
     ]
    }
   ],
   "source": [
    "'''21. Write a Python program to assign grades based on different ranges of scores using elif statements.'''\n",
    "\n",
    "# Input: Get the student's score from the user\n",
    "score = float(input(\"Enter the student's score: \"))\n",
    "\n",
    "# Assign grades based on different ranges of scores using elif statements\n",
    "if 90 <= score <= 100:\n",
    "    grade = 'A'\n",
    "elif 80 <= score < 90:\n",
    "    grade = 'B'\n",
    "elif 70 <= score < 80:\n",
    "    grade = 'C'\n",
    "elif 60 <= score < 70:\n",
    "    grade = 'D'\n",
    "elif 0 <= score < 60:\n",
    "    grade = 'F'\n",
    "else:\n",
    "    print(\"Invalid score. Please enter a score between 0 and 100.\")\n",
    "    exit()\n",
    "\n",
    "# Display the result\n",
    "print(f\"The student's grade for a score of {score} is: {grade}\")"
   ]
  },
  {
   "cell_type": "code",
   "execution_count": 7,
   "id": "b2054131-e26a-4abe-9d4d-90f1c3362463",
   "metadata": {},
   "outputs": [
    {
     "name": "stdin",
     "output_type": "stream",
     "text": [
      "Enter the measure of the first angle:  60\n",
      "Enter the measure of the second angle:  60\n",
      "Enter the measure of the third angle:  60\n"
     ]
    },
    {
     "name": "stdout",
     "output_type": "stream",
     "text": [
      "The triangle with angles 60.0, 60.0, and 60.0 is a acute-angled triangle.\n"
     ]
    }
   ],
   "source": [
    "'''22. Implement a program to determine the type of a triangle based on its angles.'''\n",
    "\n",
    "# Input: Get the angles of the triangle from the user\n",
    "angle1 = float(input(\"Enter the measure of the first angle: \"))\n",
    "angle2 = float(input(\"Enter the measure of the second angle: \"))\n",
    "angle3 = float(input(\"Enter the measure of the third angle: \"))\n",
    "\n",
    "# Check the type of triangle based on its angles using if-else statements\n",
    "if angle1 + angle2 + angle3 == 180:\n",
    "    if angle1 == 90 or angle2 == 90 or angle3 == 90:\n",
    "        triangle_type = \"right-angled\"\n",
    "    elif angle1 < 90 and angle2 < 90 and angle3 < 90:\n",
    "        triangle_type = \"acute-angled\"\n",
    "    else:\n",
    "        triangle_type = \"obtuse-angled\"\n",
    "else:\n",
    "    triangle_type = \"invalid (angles do not add up to 180 degrees)\"\n",
    "\n",
    "# Display the result\n",
    "print(f\"The triangle with angles {angle1}, {angle2}, and {angle3} is a {triangle_type} triangle.\")"
   ]
  },
  {
   "cell_type": "code",
   "execution_count": 9,
   "id": "a6e05054-28bc-4471-be2e-344d02c2e6ba",
   "metadata": {},
   "outputs": [
    {
     "name": "stdin",
     "output_type": "stream",
     "text": [
      "Enter your weight in kilograms:  75\n",
      "Enter your height in meters:  5.7\n"
     ]
    },
    {
     "name": "stdout",
     "output_type": "stream",
     "text": [
      "Your BMI is 2.31, and you are categorized as underweight.\n"
     ]
    }
   ],
   "source": [
    "'''23. Develop a program to categorize a given person's BMI into underweight, normal, overweight, or obese using elif statements.'''\n",
    "\n",
    "\n",
    "# Input: Get the person's weight (in kilograms) and height (in meters) from the user\n",
    "weight = float(input(\"Enter your weight in kilograms: \"))\n",
    "height = float(input(\"Enter your height in meters: \"))\n",
    "\n",
    "# Calculate BMI (Body Mass Index)\n",
    "bmi = weight / (height ** 2)\n",
    "\n",
    "# Categorize the BMI using elif statements\n",
    "if bmi < 18.5:\n",
    "    category = \"underweight\"\n",
    "elif 18.5 <= bmi < 24.9:\n",
    "    category = \"normal weight\"\n",
    "elif 25 <= bmi < 29.9:\n",
    "    category = \"overweight\"\n",
    "else:\n",
    "    category = \"obese\"\n",
    "\n",
    "# Display the result\n",
    "print(f\"Your BMI is {bmi:.2f}, and you are categorized as {category}.\")"
   ]
  },
  {
   "cell_type": "code",
   "execution_count": 2,
   "id": "bf736b4e-dcaa-40ad-9b6e-f61d276cbb16",
   "metadata": {},
   "outputs": [
    {
     "name": "stdin",
     "output_type": "stream",
     "text": [
      "Enter a number:  -5\n"
     ]
    },
    {
     "name": "stdout",
     "output_type": "stream",
     "text": [
      "The number is negative.\n"
     ]
    }
   ],
   "source": [
    "'''24. Create a program that determines whether a given number is positive, negative, or zero using elif statements.'''\n",
    "\n",
    "# Input: Get a number from the user\n",
    "number = float(input(\"Enter a number: \"))\n",
    "\n",
    "# Determine if the number is positive, negative, or zero using elif statements\n",
    "if number > 0:\n",
    "    print(\"The number is positive.\")\n",
    "elif number < 0:\n",
    "    print(\"The number is negative.\")\n",
    "else:\n",
    "    print(\"The number is zero.\")"
   ]
  },
  {
   "cell_type": "code",
   "execution_count": 3,
   "id": "d92bd43c-2233-49e0-ae80-d8c52e362e01",
   "metadata": {},
   "outputs": [
    {
     "name": "stdin",
     "output_type": "stream",
     "text": [
      "Enter a character:  Good Morning\n"
     ]
    },
    {
     "name": "stdout",
     "output_type": "stream",
     "text": [
      "The character 'Good Morning' is a special character.\n"
     ]
    }
   ],
   "source": [
    "'''25. Write a Python script to determine the type of a character (uppercase, lowercase, or special) using elif statements.'''\n",
    "\n",
    "# Input: Get a character from the user\n",
    "character = input(\"Enter a character: \")\n",
    "\n",
    "# Determine the type of character using elif statements\n",
    "if character.isalpha():\n",
    "    if character.islower():\n",
    "        char_type = \"lowercase\"\n",
    "    elif character.isupper():\n",
    "        char_type = \"uppercase\"\n",
    "else:\n",
    "    char_type = \"special character\"\n",
    "\n",
    "# Display the result\n",
    "print(f\"The character '{character}' is a {char_type}.\")"
   ]
  },
  {
   "cell_type": "code",
   "execution_count": 4,
   "id": "9c91e4c0-2497-404a-a848-46a26bfb8f7c",
   "metadata": {},
   "outputs": [
    {
     "name": "stdin",
     "output_type": "stream",
     "text": [
      "Enter the electricity consumption in kilowatt-hours:  45\n"
     ]
    },
    {
     "name": "stdout",
     "output_type": "stream",
     "text": [
      "The electricity bill for 45.0 kWh is: $22.50\n"
     ]
    }
   ],
   "source": [
    "'''27. Develop a program to calculate the electricity bill based on different consumption slabs using elif statements.''' \n",
    "\n",
    "\n",
    "# Input: Get the electricity consumption in kilowatt-hours from the user\n",
    "consumption = float(input(\"Enter the electricity consumption in kilowatt-hours: \"))\n",
    "\n",
    "# Define electricity rates for different consumption slabs\n",
    "rate_slab1 = 0.5  # Rate for the first 100 kWh\n",
    "rate_slab2 = 0.75  # Rate for the next 100 kWh\n",
    "rate_slab3 = 1.0   # Rate for additional consumption\n",
    "\n",
    "# Calculate the electricity bill using elif statements for different consumption slabs\n",
    "if consumption <= 100:\n",
    "    bill = consumption * rate_slab1\n",
    "elif consumption <= 200:\n",
    "    bill = 100 * rate_slab1 + (consumption - 100) * rate_slab2\n",
    "else:\n",
    "    bill = 100 * rate_slab1 + 100 * rate_slab2 + (consumption - 200) * rate_slab3\n",
    "\n",
    "# Display the result\n",
    "print(f\"The electricity bill for {consumption} kWh is: ${bill:.2f}\")"
   ]
  },
  {
   "cell_type": "code",
   "execution_count": 6,
   "id": "0cdc8435-afb7-4fc0-8318-75477d7d6e5b",
   "metadata": {},
   "outputs": [
    {
     "name": "stdin",
     "output_type": "stream",
     "text": [
      "Enter the measure of the first angle:  90\n",
      "Enter the measure of the second angle:  90\n",
      "Enter the measure of the third angle:  90\n",
      "Enter the measure of the fourth angle:  90\n",
      "Enter the length of the first side:  5\n",
      "Enter the length of the second side:  5\n",
      "Enter the length of the third side:  5\n",
      "Enter the length of the fourth side:  5\n"
     ]
    },
    {
     "name": "stdout",
     "output_type": "stream",
     "text": [
      "The quadrilateral with angles 90.0, 90.0, 90.0, and 90.0 and sides 5.0, 5.0, 5.0, and 5.0 is a square.\n"
     ]
    }
   ],
   "source": [
    "'''28. Create a program to determine the type of quadrilateral based on its angles and sides using elif statements.'''\n",
    "\n",
    "# Input: Get the angles and sides of the quadrilateral from the user\n",
    "angle1 = float(input(\"Enter the measure of the first angle: \"))\n",
    "angle2 = float(input(\"Enter the measure of the second angle: \"))\n",
    "angle3 = float(input(\"Enter the measure of the third angle: \"))\n",
    "angle4 = float(input(\"Enter the measure of the fourth angle: \"))\n",
    "\n",
    "side1 = float(input(\"Enter the length of the first side: \"))\n",
    "side2 = float(input(\"Enter the length of the second side: \"))\n",
    "side3 = float(input(\"Enter the length of the third side: \"))\n",
    "side4 = float(input(\"Enter the length of the fourth side: \"))\n",
    "\n",
    "# Check the type of quadrilateral using elif statements\n",
    "if angle1 + angle2 + angle3 + angle4 == 360:\n",
    "    if side1 == side2 == side3 == side4:\n",
    "        quadrilateral_type = \"square\"\n",
    "    elif angle1 == angle2 == angle3 == angle4 == 90:\n",
    "        quadrilateral_type = \"rectangle\"\n",
    "    else:\n",
    "        quadrilateral_type = \"quadrilateral\"\n",
    "else:\n",
    "    quadrilateral_type = \"invalid (angles do not add up to 360 degrees)\"\n",
    "\n",
    "# Display the result\n",
    "print(f\"The quadrilateral with angles {angle1}, {angle2}, {angle3}, and {angle4} and sides {side1}, {side2}, {side3}, and {side4} is a {quadrilateral_type}.\")"
   ]
  },
  {
   "cell_type": "code",
   "execution_count": 7,
   "id": "989950ed-215c-4d17-b64a-0d78062fac2e",
   "metadata": {},
   "outputs": [
    {
     "name": "stdin",
     "output_type": "stream",
     "text": [
      "Enter the month (e.g., January, February, etc.):  December\n"
     ]
    },
    {
     "name": "stdout",
     "output_type": "stream",
     "text": [
      "The season for the month of December is: winter\n"
     ]
    }
   ],
   "source": [
    "'''29. Write a Python script to determine the season based on a user-provided month using elif statements.'''\n",
    "\n",
    "# Input: Get the month from the user\n",
    "month = input(\"Enter the month (e.g., January, February, etc.): \").lower()\n",
    "\n",
    "# Determine the season using elif statements\n",
    "if month in (\"december\", \"january\", \"february\"):\n",
    "    season = \"winter\"\n",
    "elif month in (\"march\", \"april\", \"may\"):\n",
    "    season = \"spring\"\n",
    "elif month in (\"june\", \"july\", \"august\"):\n",
    "    season = \"summer\"\n",
    "elif month in (\"september\", \"october\", \"november\"):\n",
    "    season = \"autumn\"\n",
    "else:\n",
    "    season = \"invalid (please enter a valid month)\"\n",
    "\n",
    "# Display the result\n",
    "print(f\"The season for the month of {month.capitalize()} is: {season}\")"
   ]
  },
  {
   "cell_type": "code",
   "execution_count": 8,
   "id": "88d31fd3-0eef-4ee3-9dc9-fad9956dacc3",
   "metadata": {},
   "outputs": [
    {
     "name": "stdin",
     "output_type": "stream",
     "text": [
      "Enter the year:  2024\n",
      "Enter the month (e.g., January, February, etc.):  January\n"
     ]
    },
    {
     "name": "stdout",
     "output_type": "stream",
     "text": [
      "2024 is a leap year, and the month of January has 31 days.\n"
     ]
    }
   ],
   "source": [
    "'''30. Implement a program to determine the type of a year (leap or common) and month (30 or 31 days) using elif statements.'''\n",
    "\n",
    "# Input: Get the year and month from the user\n",
    "year = int(input(\"Enter the year: \"))\n",
    "month = input(\"Enter the month (e.g., January, February, etc.): \").lower()\n",
    "\n",
    "# Determine if the year is leap or common using elif statements\n",
    "if (year % 4 == 0 and year % 100 != 0) or (year % 400 == 0):\n",
    "    year_type = \"leap year\"\n",
    "else:\n",
    "    year_type = \"common year\"\n",
    "\n",
    "# Determine the number of days in the month using elif statements\n",
    "if month in (\"january\", \"march\", \"may\", \"july\", \"august\", \"october\", \"december\"):\n",
    "    days_in_month = 31\n",
    "elif month in (\"april\", \"june\", \"september\", \"november\"):\n",
    "    days_in_month = 30\n",
    "elif month == \"february\":\n",
    "    if year_type == \"leap year\":\n",
    "        days_in_month = 29\n",
    "    else:\n",
    "        days_in_month = 28\n",
    "else:\n",
    "    days_in_month = \"invalid (please enter a valid month)\"\n",
    "\n",
    "# Display the result\n",
    "print(f\"{year} is a {year_type}, and the month of {month.capitalize()} has {days_in_month} days.\")"
   ]
  },
  {
   "cell_type": "raw",
   "id": "5120ba53-dec7-4b3e-b7fb-6f5bf93e20d7",
   "metadata": {},
   "source": [
    "> Basic Level :"
   ]
  },
  {
   "cell_type": "code",
   "execution_count": 1,
   "id": "e40967e8-5da7-44e0-80ed-af44e89bfdb5",
   "metadata": {},
   "outputs": [
    {
     "name": "stdin",
     "output_type": "stream",
     "text": [
      "Enter a number:  5\n"
     ]
    },
    {
     "name": "stdout",
     "output_type": "stream",
     "text": [
      "The number is positive.\n"
     ]
    }
   ],
   "source": [
    "'''1. Write a Python program that checks if a given number is positive, negative, or zero.'''\n",
    "\n",
    "# Input: Get a number from the user\n",
    "number = float(input(\"Enter a number: \"))\n",
    "\n",
    "# Check if the number is positive, negative, or zero\n",
    "if number > 0:\n",
    "    print(\"The number is positive.\")\n",
    "elif number < 0:\n",
    "    print(\"The number is negative.\")\n",
    "else:\n",
    "    print(\"The number is zero.\")"
   ]
  },
  {
   "cell_type": "code",
   "execution_count": 2,
   "id": "3f5cfed0-4c3b-49cf-bdee-8c5c6c082ac0",
   "metadata": {},
   "outputs": [
    {
     "name": "stdin",
     "output_type": "stream",
     "text": [
      "Enter your age:  25\n"
     ]
    },
    {
     "name": "stdout",
     "output_type": "stream",
     "text": [
      "You are eligible to vote.\n"
     ]
    }
   ],
   "source": [
    "'''2. Create a program that determines if a person is eligible to vote based on their age.'''\n",
    "\n",
    "# Input: Get the person's age from the user\n",
    "age = int(input(\"Enter your age: \"))\n",
    "\n",
    "# Check if the person is eligible to vote based on age\n",
    "if age >= 18:\n",
    "    print(\"You are eligible to vote.\")\n",
    "else:\n",
    "    print(\"You are not eligible to vote.\")"
   ]
  },
  {
   "cell_type": "code",
   "execution_count": 3,
   "id": "76f4c5e5-2d16-4220-b80f-66c53d68a36b",
   "metadata": {},
   "outputs": [
    {
     "name": "stdin",
     "output_type": "stream",
     "text": [
      "Enter the first number:  10\n",
      "Enter the second number:  20\n"
     ]
    },
    {
     "name": "stdout",
     "output_type": "stream",
     "text": [
      "The maximum of 10.0 and 20.0 is: 20.0\n"
     ]
    }
   ],
   "source": [
    "'''3. Develop a program to find the maximum of two numbers using if-else statements.'''\n",
    "\n",
    "# Input: Get two numbers from the user\n",
    "number1 = float(input(\"Enter the first number: \"))\n",
    "number2 = float(input(\"Enter the second number: \"))\n",
    "\n",
    "# Find the maximum of two numbers using if-else statements\n",
    "if number1 > number2:\n",
    "    maximum = number1\n",
    "else:\n",
    "    maximum = number2\n",
    "\n",
    "# Display the result\n",
    "print(f\"The maximum of {number1} and {number2} is: {maximum}\")"
   ]
  },
  {
   "cell_type": "code",
   "execution_count": 4,
   "id": "e325bc58-289d-42c0-a230-a52912fbe030",
   "metadata": {},
   "outputs": [
    {
     "name": "stdin",
     "output_type": "stream",
     "text": [
      "Enter a year:  2024\n"
     ]
    },
    {
     "name": "stdout",
     "output_type": "stream",
     "text": [
      "2024 is a leap year.\n"
     ]
    }
   ],
   "source": [
    "'''4. Write a Python script to classify a given year as a leap year or not.'''\n",
    "\n",
    "# Input: Get the year from the user\n",
    "year = int(input(\"Enter a year: \"))\n",
    "\n",
    "# Check if the year is a leap year using if-else statements\n",
    "if (year % 4 == 0 and year % 100 != 0) or (year % 400 == 0):\n",
    "    print(f\"{year} is a leap year.\")\n",
    "else:\n",
    "    print(f\"{year} is not a leap year.\")\n"
   ]
  },
  {
   "cell_type": "code",
   "execution_count": 6,
   "id": "d4370270-35d7-4493-afae-dc44bb785af2",
   "metadata": {},
   "outputs": [
    {
     "name": "stdin",
     "output_type": "stream",
     "text": [
      "Enter a character:  A\n"
     ]
    },
    {
     "name": "stdout",
     "output_type": "stream",
     "text": [
      "The character 'a' is a vowel.\n"
     ]
    }
   ],
   "source": [
    "'''5. Create a program that checks whether a character is a vowel or a consonant.'''\n",
    "\n",
    "# Input: Get a character from the user\n",
    "character = input(\"Enter a character: \").lower()\n",
    "\n",
    "# Check if the character is a vowel or a consonant\n",
    "if character.isalpha() and len(character) == 1:\n",
    "    if character in ('a', 'e', 'i', 'o', 'u'):\n",
    "        print(f\"The character '{character}' is a vowel.\")\n",
    "    else:\n",
    "        print(f\"The character '{character}' is a consonant.\")\n",
    "else:\n",
    "    print(\"Invalid input. Please enter a single alphabet character.\")"
   ]
  },
  {
   "cell_type": "code",
   "execution_count": 7,
   "id": "46a2d49b-8b94-4fc1-afed-57c007bbfdb3",
   "metadata": {},
   "outputs": [
    {
     "name": "stdin",
     "output_type": "stream",
     "text": [
      "Enter a number:  20\n"
     ]
    },
    {
     "name": "stdout",
     "output_type": "stream",
     "text": [
      "The number 20 is even.\n"
     ]
    }
   ],
   "source": [
    "'''6. Implement a program to determine whether a given number is even or odd.'''\n",
    "\n",
    "# Input: Get a number from the user\n",
    "number = int(input(\"Enter a number: \"))\n",
    "\n",
    "# Check if the number is even or odd\n",
    "if number % 2 == 0:\n",
    "    print(f\"The number {number} is even.\")\n",
    "else:\n",
    "    print(f\"The number {number} is odd.\")"
   ]
  },
  {
   "cell_type": "code",
   "execution_count": 9,
   "id": "ce72b005-24d7-42ed-8ad1-5a7ff290d302",
   "metadata": {},
   "outputs": [
    {
     "name": "stdin",
     "output_type": "stream",
     "text": [
      "Enter a number:  -15\n"
     ]
    },
    {
     "name": "stdout",
     "output_type": "stream",
     "text": [
      "The absolute value of -15.0 is: 15.0\n"
     ]
    }
   ],
   "source": [
    "'''7. Write a Python function to calculate the absolute value of a number without using the `abs()` function.'''\n",
    "\n",
    "def calculate_absolute_value(number):\n",
    "    # Check if the number is negative and multiply by -1 if necessary\n",
    "    if number < 0:\n",
    "        return -number\n",
    "    else:\n",
    "        return number\n",
    "\n",
    "# Input: Get a number from the user\n",
    "number = float(input(\"Enter a number: \"))\n",
    "\n",
    "# Calculate and display the absolute value using the custom function\n",
    "absolute_value = calculate_absolute_value(number)\n",
    "print(f\"The absolute value of {number} is: {absolute_value}\")"
   ]
  },
  {
   "cell_type": "code",
   "execution_count": 12,
   "id": "db120a78-a598-4d0e-a16d-2d2447fd97d5",
   "metadata": {},
   "outputs": [
    {
     "name": "stdin",
     "output_type": "stream",
     "text": [
      "Enter the first number:  -10\n",
      "Enter the second number:  -20\n",
      "Enter the third number:  -30\n"
     ]
    },
    {
     "name": "stdout",
     "output_type": "stream",
     "text": [
      "The largest of -10.0, -20.0, and -30.0 is: -10.0\n"
     ]
    }
   ],
   "source": [
    "'''8. Develop a program that determines the largest of three given numbers using if-else statements.'''\n",
    "\n",
    "# Input: Get three numbers from the user\n",
    "number1 = float(input(\"Enter the first number: \"))\n",
    "number2 = float(input(\"Enter the second number: \"))\n",
    "number3 = float(input(\"Enter the third number: \"))\n",
    "\n",
    "# Determine the largest of three numbers using if-else statements\n",
    "if number1 >= number2 and number1 >= number3:\n",
    "    largest = number1\n",
    "elif number2 >= number1 and number2 >= number3:\n",
    "    largest = number2\n",
    "else:\n",
    "    largest = number3\n",
    "\n",
    "# Display the result\n",
    "print(f\"The largest of {number1}, {number2}, and {number3} is: {largest}\")"
   ]
  },
  {
   "cell_type": "code",
   "execution_count": 13,
   "id": "10c968bb-a9b2-49e8-b308-8902071b3776",
   "metadata": {},
   "outputs": [
    {
     "name": "stdin",
     "output_type": "stream",
     "text": [
      "Enter a string:  A man a plan a canal Panama\n"
     ]
    },
    {
     "name": "stdout",
     "output_type": "stream",
     "text": [
      "The string 'A man a plan a canal Panama' is a palindrome.\n"
     ]
    }
   ],
   "source": [
    "'''9. Create a program that checks if a given string is a palindrome.'''\n",
    "\n",
    "# Input: Get a string from the user\n",
    "input_string = input(\"Enter a string: \")\n",
    "\n",
    "# Remove spaces and convert to lowercase for case-insensitivity\n",
    "cleaned_string = input_string.replace(\" \", \"\").lower()\n",
    "\n",
    "# Check if the string is a palindrome\n",
    "if cleaned_string == cleaned_string[::-1]:\n",
    "    print(f\"The string '{input_string}' is a palindrome.\")\n",
    "else:\n",
    "    print(f\"The string '{input_string}' is not a palindrome.\")"
   ]
  },
  {
   "cell_type": "code",
   "execution_count": 17,
   "id": "68392a4e-8ea6-43a1-8028-2581042a2511",
   "metadata": {},
   "outputs": [
    {
     "name": "stdin",
     "output_type": "stream",
     "text": [
      "Enter the student's score:  75\n"
     ]
    },
    {
     "name": "stdout",
     "output_type": "stream",
     "text": [
      "The student's grade for a score of 75.0 is: C\n"
     ]
    }
   ],
   "source": [
    "'''10. Write a Python program to calculate the grade based on a student's score.'''\n",
    "\n",
    "# Input: Get the student's score from the user\n",
    "score = float(input(\"Enter the student's score: \"))\n",
    "\n",
    "# Determine the grade based on the score using if-elif statements\n",
    "if 90 <= score <= 100:\n",
    "    grade = 'A'\n",
    "elif 80 <= score < 90:\n",
    "    grade = 'B'\n",
    "elif 70 <= score < 80:\n",
    "    grade = 'C'\n",
    "elif 60 <= score < 70:\n",
    "    grade = 'D'\n",
    "elif 0 <= score < 60:\n",
    "    grade = 'F'\n",
    "else:\n",
    "    grade = 'Invalid score (should be between 0 and 100)'\n",
    "\n",
    "# Display the result\n",
    "print(f\"The student's grade for a score of {score} is: {grade}\")"
   ]
  },
  {
   "cell_type": "raw",
   "id": "d2454e1f-7dc9-484e-8c37-f9bcc687cbc9",
   "metadata": {},
   "source": [
    "> Nested If-Else Statements :"
   ]
  },
  {
   "cell_type": "code",
   "execution_count": 24,
   "id": "fb2e17ef-4b93-4c19-8e7e-c964222d5ea2",
   "metadata": {},
   "outputs": [
    {
     "name": "stdin",
     "output_type": "stream",
     "text": [
      "Enter the coefficient of x^2:  2\n",
      "Enter the coefficient of x:  4\n",
      "Enter the constant term:  20\n"
     ]
    },
    {
     "name": "stdout",
     "output_type": "stream",
     "text": [
      "The roots of the quadratic equation are complex: (-1+3j) and (-1-3j)\n"
     ]
    }
   ],
   "source": [
    "'''11. Write a program that calculates the roots of a quadratic equation .'''\n",
    "\n",
    "import cmath  # Import the complex math module for handling complex roots\n",
    "\n",
    "# Input: Get the coefficients of the quadratic equation from the user\n",
    "a = float(input(\"Enter the coefficient of x^2: \"))\n",
    "b = float(input(\"Enter the coefficient of x: \"))\n",
    "c = float(input(\"Enter the constant term: \"))\n",
    "\n",
    "# Calculate the discriminant\n",
    "discriminant = b**2 - 4*a*c\n",
    "\n",
    "# Calculate the roots using if-else statements based on the discriminant\n",
    "if discriminant > 0:\n",
    "    root1 = (-b + cmath.sqrt(discriminant)) / (2*a)\n",
    "    root2 = (-b - cmath.sqrt(discriminant)) / (2*a)\n",
    "    print(f\"The roots of the quadratic equation are real and distinct: {root1} and {root2}\")\n",
    "elif discriminant == 0:\n",
    "    root = -b / (2*a)\n",
    "    print(f\"The root of the quadratic equation is real and equal: {root}\")\n",
    "else:\n",
    "    # For complex roots, use the cmath module\n",
    "    real_part = -b / (2*a)\n",
    "    imaginary_part = cmath.sqrt(abs(discriminant)) / (2*a)\n",
    "    root1 = complex(real_part, imaginary_part)\n",
    "    root2 = complex(real_part, -imaginary_part)\n",
    "    print(f\"The roots of the quadratic equation are complex: {root1} and {root2}\")"
   ]
  },
  {
   "cell_type": "code",
   "execution_count": 3,
   "id": "60b4e05d-0adb-45f2-94b4-8f40d65e09a2",
   "metadata": {},
   "outputs": [
    {
     "name": "stdin",
     "output_type": "stream",
     "text": [
      "Enter the day number (1-7):  5\n"
     ]
    },
    {
     "name": "stdout",
     "output_type": "stream",
     "text": [
      "The day corresponding to day number 5 is: Friday\n"
     ]
    }
   ],
   "source": [
    "'''12. Create a program that determines the day of the week based on the day number (1-7).'''\n",
    "\n",
    "# Input: Get the day number from the user\n",
    "day_number = int(input(\"Enter the day number (1-7): \"))\n",
    "\n",
    "# Determine the day of the week using if-elif statements\n",
    "if day_number == 1:\n",
    "    day_name = \"Monday\"\n",
    "elif day_number == 2:\n",
    "    day_name = \"Tuesday\"\n",
    "elif day_number == 3:\n",
    "    day_name = \"Wednesday\"\n",
    "elif day_number == 4:\n",
    "    day_name = \"Thursday\"\n",
    "elif day_number == 5:\n",
    "    day_name = \"Friday\"\n",
    "elif day_number == 6:\n",
    "    day_name = \"Saturday\"\n",
    "elif day_number == 7:\n",
    "    day_name = \"Sunday\"\n",
    "else:\n",
    "    day_name = \"Invalid day number (should be between 1 and 7)\"\n",
    "\n",
    "# Display the result\n",
    "print(f\"The day corresponding to day number {day_number} is: {day_name}\")"
   ]
  },
  {
   "cell_type": "code",
   "execution_count": 5,
   "id": "a922656c-f2b5-4906-8cf5-2d9c97b2f991",
   "metadata": {},
   "outputs": [
    {
     "name": "stdin",
     "output_type": "stream",
     "text": [
      "Enter a non-negative integer:  5\n"
     ]
    },
    {
     "name": "stdout",
     "output_type": "stream",
     "text": [
      "The factorial of 5 is: 120\n"
     ]
    }
   ],
   "source": [
    "'''13. Develop a program that calculates the factorial of a given number using recursion.'''\n",
    "\n",
    "def calculate_factorial(n):\n",
    "    # Base case: factorial of 0 or 1 is 1\n",
    "    if n == 0 or n == 1:\n",
    "        return 1\n",
    "    else:\n",
    "        # Recursive case: n! = n * (n-1)!\n",
    "        return n * calculate_factorial(n - 1)\n",
    "\n",
    "# Input: Get the number from the user\n",
    "number = int(input(\"Enter a non-negative integer: \"))\n",
    "\n",
    "# Check if the number is non-negative\n",
    "if number < 0:\n",
    "    print(\"Please enter a non-negative integer.\")\n",
    "else:\n",
    "    # Calculate and display the factorial using the recursive function\n",
    "    result = calculate_factorial(number)\n",
    "    print(f\"The factorial of {number} is: {result}\")"
   ]
  },
  {
   "cell_type": "code",
   "execution_count": 6,
   "id": "7eab1912-2581-4bec-8e62-7c2ff115d4a1",
   "metadata": {},
   "outputs": [
    {
     "name": "stdin",
     "output_type": "stream",
     "text": [
      "Enter the first number:  6\n",
      "Enter the second number:  12\n",
      "Enter the third number:  18\n"
     ]
    },
    {
     "name": "stdout",
     "output_type": "stream",
     "text": [
      "The largest among 6.0, 12.0, and 18.0 is: 18.0\n"
     ]
    }
   ],
   "source": [
    "'''14. Write a program to find the largest among three numbers without using the `max()` function.'''\n",
    "\n",
    "# Input: Get three numbers from the user\n",
    "number1 = float(input(\"Enter the first number: \"))\n",
    "number2 = float(input(\"Enter the second number: \"))\n",
    "number3 = float(input(\"Enter the third number: \"))\n",
    "\n",
    "# Find the largest among three numbers without using max()\n",
    "largest = number1\n",
    "\n",
    "if number2 > largest:\n",
    "    largest = number2\n",
    "\n",
    "if number3 > largest:\n",
    "    largest = number3\n",
    "\n",
    "# Display the result\n",
    "print(f\"The largest among {number1}, {number2}, and {number3} is: {largest}\")"
   ]
  },
  {
   "cell_type": "code",
   "execution_count": 12,
   "id": "00ee34d8-8c4c-4a00-9f01-2872d038c77c",
   "metadata": {},
   "outputs": [
    {
     "name": "stdout",
     "output_type": "stream",
     "text": [
      "\n",
      "ATM Menu:\n",
      "1. Check Balance\n",
      "2. Deposit Money\n",
      "3. Withdraw Money\n",
      "4. Exit\n"
     ]
    },
    {
     "name": "stdin",
     "output_type": "stream",
     "text": [
      "Enter your choice (1-4):  1\n"
     ]
    },
    {
     "name": "stdout",
     "output_type": "stream",
     "text": [
      "Your current balance is: $1000.00\n",
      "\n",
      "ATM Menu:\n",
      "1. Check Balance\n",
      "2. Deposit Money\n",
      "3. Withdraw Money\n",
      "4. Exit\n"
     ]
    },
    {
     "name": "stdin",
     "output_type": "stream",
     "text": [
      "Enter your choice (1-4):  2\n",
      "Enter the amount to deposit: $ 1000\n"
     ]
    },
    {
     "name": "stdout",
     "output_type": "stream",
     "text": [
      "$1000.00 has been deposited. Your new balance is: $2000.00\n",
      "\n",
      "ATM Menu:\n",
      "1. Check Balance\n",
      "2. Deposit Money\n",
      "3. Withdraw Money\n",
      "4. Exit\n"
     ]
    },
    {
     "name": "stdin",
     "output_type": "stream",
     "text": [
      "Enter your choice (1-4):  3\n",
      "Enter the amount to withdraw: $ 500\n"
     ]
    },
    {
     "name": "stdout",
     "output_type": "stream",
     "text": [
      "$500.00 has been withdrawn. Your new balance is: $1500.00\n",
      "\n",
      "ATM Menu:\n",
      "1. Check Balance\n",
      "2. Deposit Money\n",
      "3. Withdraw Money\n",
      "4. Exit\n"
     ]
    },
    {
     "name": "stdin",
     "output_type": "stream",
     "text": [
      "Enter your choice (1-4):  4\n"
     ]
    },
    {
     "name": "stdout",
     "output_type": "stream",
     "text": [
      "Exiting the ATM. Thank you!\n"
     ]
    }
   ],
   "source": [
    "'''15. Create a program that simulates a basic ATM transaction menu.'''\n",
    "\n",
    "# Initial account balance\n",
    "account_balance = 1000.0\n",
    "\n",
    "# Display the ATM menu\n",
    "def display_menu():\n",
    "    print(\"\\nATM Menu:\")\n",
    "    print(\"1. Check Balance\")\n",
    "    print(\"2. Deposit Money\")\n",
    "    print(\"3. Withdraw Money\")\n",
    "    print(\"4. Exit\")\n",
    "\n",
    "# Function to check account balance\n",
    "def check_balance():\n",
    "    print(f\"Your current balance is: ${account_balance:.2f}\")\n",
    "\n",
    "# Function to deposit money\n",
    "def deposit_money():\n",
    "    global account_balance  # Access the global variable\n",
    "    amount = float(input(\"Enter the amount to deposit: $\"))\n",
    "    account_balance += amount\n",
    "    print(f\"${amount:.2f} has been deposited. Your new balance is: ${account_balance:.2f}\")\n",
    "\n",
    "# Function to withdraw money\n",
    "def withdraw_money():\n",
    "    global account_balance  # Access the global variable\n",
    "    amount = float(input(\"Enter the amount to withdraw: $\"))\n",
    "    if amount > account_balance:\n",
    "        print(\"Insufficient funds. Withdrawal not allowed.\")\n",
    "    else:\n",
    "        account_balance -= amount\n",
    "        print(f\"${amount:.2f} has been withdrawn. Your new balance is: ${account_balance:.2f}\")\n",
    "\n",
    "# Main program loop\n",
    "while True:\n",
    "    display_menu()\n",
    "    choice = input(\"Enter your choice (1-4): \")\n",
    "\n",
    "    if choice == \"1\":\n",
    "        check_balance()\n",
    "    elif choice == \"2\":\n",
    "        deposit_money()\n",
    "    elif choice == \"3\":\n",
    "        withdraw_money()\n",
    "    elif choice == \"4\":\n",
    "        print(\"Exiting the ATM. Thank you!\")\n",
    "        break\n",
    "    else:\n",
    "        print(\"Invalid choice. Please enter a number between 1 and 4.\")"
   ]
  },
  {
   "cell_type": "code",
   "execution_count": 8,
   "id": "780dbf04-7251-4964-b2ad-5d923e2e01ee",
   "metadata": {},
   "outputs": [
    {
     "name": "stdin",
     "output_type": "stream",
     "text": [
      "Enter a string:  Step On No Pets\n"
     ]
    },
    {
     "name": "stdout",
     "output_type": "stream",
     "text": [
      "The string 'Step On No Pets' is a palindrome.\n"
     ]
    }
   ],
   "source": [
    "'''16. Build a program that checks if a given string is a palindrome or not.'''\n",
    "\n",
    "def is_palindrome(input_string):\n",
    "    # Remove spaces and convert to lowercase for case-insensitivity\n",
    "    cleaned_string = input_string.replace(\" \", \"\").lower()\n",
    "    \n",
    "    # Check if the cleaned string is equal to its reverse\n",
    "    return cleaned_string == cleaned_string[::-1]\n",
    "\n",
    "# Input: Get a string from the user\n",
    "input_string = input(\"Enter a string: \")\n",
    "\n",
    "# Check if the string is a palindrome and display the result\n",
    "if is_palindrome(input_string):\n",
    "    print(f\"The string '{input_string}' is a palindrome.\")\n",
    "else:\n",
    "    print(f\"The string '{input_string}' is not a palindrome.\")"
   ]
  },
  {
   "cell_type": "code",
   "execution_count": 9,
   "id": "ddd895fb-ac94-4d04-bbd9-cd7e98da70a1",
   "metadata": {},
   "outputs": [
    {
     "name": "stdin",
     "output_type": "stream",
     "text": [
      "Enter a list of numbers separated by spaces:  3 6 1\n"
     ]
    },
    {
     "name": "stdout",
     "output_type": "stream",
     "text": [
      "The average excluding the smallest and largest values is: 3.00\n"
     ]
    }
   ],
   "source": [
    "'''17. Write a program that calculates the average of a list of numbers, excluding the smallest and largest values.'''\n",
    "\n",
    "def calculate_average_excluding_extremes(numbers):\n",
    "    if len(numbers) < 3:\n",
    "        print(\"Insufficient number of elements. Please provide at least three numbers.\")\n",
    "        return\n",
    "\n",
    "    # Exclude the smallest and largest values\n",
    "    numbers.sort()\n",
    "    excluded_numbers = numbers[1:-1]\n",
    "\n",
    "    # Calculate the average\n",
    "    average = sum(excluded_numbers) / len(excluded_numbers)\n",
    "\n",
    "    return average\n",
    "\n",
    "# Input: Get a list of numbers from the user\n",
    "numbers = [float(x) for x in input(\"Enter a list of numbers separated by spaces: \").split()]\n",
    "\n",
    "# Calculate and display the average excluding extremes\n",
    "result = calculate_average_excluding_extremes(numbers)\n",
    "if result is not None:\n",
    "    print(f\"The average excluding the smallest and largest values is: {result:.2f}\")"
   ]
  },
  {
   "cell_type": "code",
   "execution_count": 10,
   "id": "0bd582eb-a469-47ed-8aeb-e6bc004954d1",
   "metadata": {},
   "outputs": [
    {
     "name": "stdin",
     "output_type": "stream",
     "text": [
      "Enter the temperature in Celsius:  25\n"
     ]
    },
    {
     "name": "stdout",
     "output_type": "stream",
     "text": [
      "25.00 degrees Celsius is equal to 77.00 degrees Fahrenheit.\n"
     ]
    }
   ],
   "source": [
    "'''18. Develop a program that converts a given temperature from Celsius to Fahrenheit.'''\n",
    "\n",
    "def celsius_to_fahrenheit(celsius):\n",
    "    # Conversion formula: Fahrenheit = (Celsius * 9/5) + 32\n",
    "    fahrenheit = (celsius * 9/5) + 32\n",
    "    return fahrenheit\n",
    "\n",
    "# Input: Get the temperature in Celsius from the user\n",
    "celsius_temperature = float(input(\"Enter the temperature in Celsius: \"))\n",
    "\n",
    "# Convert Celsius to Fahrenheit and display the result\n",
    "fahrenheit_temperature = celsius_to_fahrenheit(celsius_temperature)\n",
    "print(f\"{celsius_temperature:.2f} degrees Celsius is equal to {fahrenheit_temperature:.2f} degrees Fahrenheit.\")"
   ]
  },
  {
   "cell_type": "code",
   "execution_count": 11,
   "id": "67b9aa2c-1344-4f7d-8519-24d02e3770e1",
   "metadata": {},
   "outputs": [
    {
     "name": "stdout",
     "output_type": "stream",
     "text": [
      "\n",
      "Calculator Menu:\n",
      "1. Addition\n",
      "2. Subtraction\n",
      "3. Multiplication\n",
      "4. Division\n",
      "5. Exit\n"
     ]
    },
    {
     "name": "stdin",
     "output_type": "stream",
     "text": [
      "Enter your choice (1-5):  1\n",
      "Enter the first number:  2\n",
      "Enter the second number:  4\n"
     ]
    },
    {
     "name": "stdout",
     "output_type": "stream",
     "text": [
      "The result is: 6.00\n",
      "\n",
      "Calculator Menu:\n",
      "1. Addition\n",
      "2. Subtraction\n",
      "3. Multiplication\n",
      "4. Division\n",
      "5. Exit\n"
     ]
    },
    {
     "name": "stdin",
     "output_type": "stream",
     "text": [
      "Enter your choice (1-5):  2\n",
      "Enter the first number:  4\n",
      "Enter the second number:  2\n"
     ]
    },
    {
     "name": "stdout",
     "output_type": "stream",
     "text": [
      "The result is: 2.00\n",
      "\n",
      "Calculator Menu:\n",
      "1. Addition\n",
      "2. Subtraction\n",
      "3. Multiplication\n",
      "4. Division\n",
      "5. Exit\n"
     ]
    },
    {
     "name": "stdin",
     "output_type": "stream",
     "text": [
      "Enter your choice (1-5):  3\n",
      "Enter the first number:  2\n",
      "Enter the second number:  4\n"
     ]
    },
    {
     "name": "stdout",
     "output_type": "stream",
     "text": [
      "The result is: 8.00\n",
      "\n",
      "Calculator Menu:\n",
      "1. Addition\n",
      "2. Subtraction\n",
      "3. Multiplication\n",
      "4. Division\n",
      "5. Exit\n"
     ]
    },
    {
     "name": "stdin",
     "output_type": "stream",
     "text": [
      "Enter your choice (1-5):  4\n",
      "Enter the first number:  4\n",
      "Enter the second number:  2\n"
     ]
    },
    {
     "name": "stdout",
     "output_type": "stream",
     "text": [
      "The result is: 2.00\n",
      "\n",
      "Calculator Menu:\n",
      "1. Addition\n",
      "2. Subtraction\n",
      "3. Multiplication\n",
      "4. Division\n",
      "5. Exit\n"
     ]
    },
    {
     "name": "stdin",
     "output_type": "stream",
     "text": [
      "Enter your choice (1-5):  5\n"
     ]
    },
    {
     "name": "stdout",
     "output_type": "stream",
     "text": [
      "Exiting the calculator. Thank you!\n"
     ]
    }
   ],
   "source": [
    "'''19. Create a program that simulates a basic calculator for addition, subtraction, multiplication, and division.'''\n",
    "\n",
    "# Function to perform addition\n",
    "def add(x, y):\n",
    "    return x + y\n",
    "\n",
    "# Function to perform subtraction\n",
    "def subtract(x, y):\n",
    "    return x - y\n",
    "\n",
    "# Function to perform multiplication\n",
    "def multiply(x, y):\n",
    "    return x * y\n",
    "\n",
    "# Function to perform division\n",
    "def divide(x, y):\n",
    "    if y != 0:\n",
    "        return x / y\n",
    "    else:\n",
    "        print(\"Error: Division by zero not allowed.\")\n",
    "        return None\n",
    "\n",
    "# Display the calculator menu\n",
    "def display_menu():\n",
    "    print(\"\\nCalculator Menu:\")\n",
    "    print(\"1. Addition\")\n",
    "    print(\"2. Subtraction\")\n",
    "    print(\"3. Multiplication\")\n",
    "    print(\"4. Division\")\n",
    "    print(\"5. Exit\")\n",
    "\n",
    "# Main program loop\n",
    "while True:\n",
    "    display_menu()\n",
    "    choice = input(\"Enter your choice (1-5): \")\n",
    "\n",
    "    if choice == \"5\":\n",
    "        print(\"Exiting the calculator. Thank you!\")\n",
    "        break\n",
    "\n",
    "    # Get input numbers from the user\n",
    "    try:\n",
    "        num1 = float(input(\"Enter the first number: \"))\n",
    "        num2 = float(input(\"Enter the second number: \"))\n",
    "    except ValueError:\n",
    "        print(\"Invalid input. Please enter valid numbers.\")\n",
    "        continue\n",
    "\n",
    "    # Perform the selected operation\n",
    "    if choice == \"1\":\n",
    "        result = add(num1, num2)\n",
    "    elif choice == \"2\":\n",
    "        result = subtract(num1, num2)\n",
    "    elif choice == \"3\":\n",
    "        result = multiply(num1, num2)\n",
    "    elif choice == \"4\":\n",
    "        result = divide(num1, num2)\n",
    "    else:\n",
    "        print(\"Invalid choice. Please enter a number between 1 and 5.\")\n",
    "        continue\n",
    "\n",
    "    # Display the result\n",
    "    if result is not None:\n",
    "        print(f\"The result is: {result:.2f}\")"
   ]
  },
  {
   "cell_type": "code",
   "execution_count": 1,
   "id": "d72331ec-040e-4e09-95ce-b1bbb523b4ad",
   "metadata": {},
   "outputs": [
    {
     "name": "stdin",
     "output_type": "stream",
     "text": [
      "Enter the coefficient a:  1\n",
      "Enter the coefficient b:  -6\n",
      "Enter the coefficient c:  11\n",
      "Enter the coefficient d:  -6\n"
     ]
    },
    {
     "name": "stdout",
     "output_type": "stream",
     "text": [
      "Roots: ((2-0j), (1.6362921213427595+0.6299605249474366j), (2.36370787865724-0.6299605249474366j))\n"
     ]
    }
   ],
   "source": [
    "'''20. Write a program that determines the roots of a cubic equation using the Cardano formula.'''\n",
    "\n",
    "def cubic_roots(a, b, c, d):\n",
    "    # Calculate discriminant\n",
    "    delta_0 = b**2 - 3*a*c\n",
    "    delta_1 = 2*b**3 - 9*a*b*c + 27*a**2*d\n",
    "    delta = delta_1**2 - 4*delta_0**3\n",
    "\n",
    "    # Calculate roots\n",
    "    if delta > 0:\n",
    "        # Three real roots\n",
    "        C = ((delta_1 + delta**0.5) / 2)**(1/3)\n",
    "        root_1 = (-1/(3*a)) * (b + C + delta_0/C)\n",
    "        root_2 = (-1/(3*a)) * (b + (C * (-0.5 + 0.5j) - 0.5j * delta_0/C))\n",
    "        root_3 = (-1/(3*a)) * (b + (C * (-0.5 - 0.5j) + 0.5j * delta_0/C))\n",
    "    elif delta == 0:\n",
    "        # One real root (repeated)\n",
    "        if delta_0 == 0:\n",
    "            root_1 = 0\n",
    "        else:\n",
    "            root_1 = (-1/(3*a)) * (b + (delta_1/2)**(1/3) + delta_0/(delta_1/2)**(1/3))\n",
    "        root_2 = root_1\n",
    "        root_3 = root_1\n",
    "    else:\n",
    "        # One real root, two complex conjugate roots\n",
    "        R = -(delta_1/2 + (delta/27)**0.5)**(1/3)\n",
    "        S = delta_1/(2*R) - R\n",
    "        root_1 = (-1/(3*a)) * (b + R + S)\n",
    "        root_2 = (-1/(3*a)) * (b - (R + S)/2 + 0.5j * (3**0.5) * (R - S))\n",
    "        root_3 = (-1/(3*a)) * (b - (R + S)/2 - 0.5j * (3**0.5) * (R - S))\n",
    "\n",
    "    return root_1, root_2, root_3\n",
    "\n",
    "# Example usage\n",
    "a = float(input(\"Enter the coefficient a: \"))\n",
    "b = float(input(\"Enter the coefficient b: \"))\n",
    "c = float(input(\"Enter the coefficient c: \"))\n",
    "d = float(input(\"Enter the coefficient d: \"))\n",
    "\n",
    "roots = cubic_roots(a, b, c, d)\n",
    "print(\"Roots:\", roots)"
   ]
  },
  {
   "cell_type": "raw",
   "id": "d2313309-96df-4461-a0f3-346f3ce01c80",
   "metadata": {},
   "source": [
    "> Advanced Level :"
   ]
  },
  {
   "cell_type": "code",
   "execution_count": 3,
   "id": "3b59eb51-47c9-4be3-b910-653fe0e28e15",
   "metadata": {},
   "outputs": [
    {
     "name": "stdin",
     "output_type": "stream",
     "text": [
      "Enter your income:  20000\n"
     ]
    },
    {
     "name": "stdout",
     "output_type": "stream",
     "text": [
      "Income Tax: $ 3000.00\n"
     ]
    }
   ],
   "source": [
    "'''21. Create a program that calculates the income tax based on the user's income and tax brackets.'''\n",
    "\n",
    "def calculate_income_tax(income):\n",
    "    # Define tax brackets and rates\n",
    "    brackets = [10000, 50000, 100000]  # Example tax brackets\n",
    "    rates = [0.1, 0.2, 0.3, 0.4]       # Example tax rates\n",
    "\n",
    "    # Initialize variables\n",
    "    remaining_income = income\n",
    "    tax_paid = 0\n",
    "\n",
    "    # Calculate tax based on tax brackets\n",
    "    for i in range(len(brackets) + 1):\n",
    "        if i == len(brackets):\n",
    "            # Last bracket\n",
    "            tax_paid += remaining_income * rates[i]\n",
    "        elif remaining_income > brackets[i]:\n",
    "            # Tax for the current bracket\n",
    "            tax_paid += brackets[i] * rates[i]\n",
    "            remaining_income -= brackets[i]\n",
    "        else:\n",
    "            # Tax for the remaining income in the last bracket\n",
    "            tax_paid += remaining_income * rates[i]\n",
    "            break\n",
    "\n",
    "    return tax_paid\n",
    "\n",
    "# Example usage\n",
    "income = float(input(\"Enter your income: \"))\n",
    "tax = calculate_income_tax(income)\n",
    "print(\"Income Tax: $\", format(tax, \".2f\"))"
   ]
  },
  {
   "cell_type": "code",
   "execution_count": 1,
   "id": "4fb3061c-d0d2-47f3-be78-3c038136dd66",
   "metadata": {},
   "outputs": [
    {
     "name": "stdin",
     "output_type": "stream",
     "text": [
      "Enter your choice (rock, paper, or scissors):  ROCK\n"
     ]
    },
    {
     "name": "stdout",
     "output_type": "stream",
     "text": [
      "You chose rock.\n",
      "Computer chose paper.\n",
      "Computer wins!\n"
     ]
    },
    {
     "name": "stdin",
     "output_type": "stream",
     "text": [
      "Do you want to play again? (yes/no):  NO\n"
     ]
    }
   ],
   "source": [
    "'''22. Write a program that simulates a rock-paper-scissors game against the computer.'''\n",
    "\n",
    "import random\n",
    "\n",
    "def get_user_choice():\n",
    "    user_choice = input(\"Enter your choice (rock, paper, or scissors): \").lower()\n",
    "    while user_choice not in [\"rock\", \"paper\", \"scissors\"]:\n",
    "        print(\"Invalid choice. Please enter rock, paper, or scissors.\")\n",
    "        user_choice = input(\"Enter your choice: \").lower()\n",
    "    return user_choice\n",
    "\n",
    "def get_computer_choice():\n",
    "    return random.choice([\"rock\", \"paper\", \"scissors\"])\n",
    "\n",
    "def determine_winner(user_choice, computer_choice):\n",
    "    if user_choice == computer_choice:\n",
    "        return \"It's a tie!\"\n",
    "    elif (\n",
    "        (user_choice == \"rock\" and computer_choice == \"scissors\") or\n",
    "        (user_choice == \"paper\" and computer_choice == \"rock\") or\n",
    "        (user_choice == \"scissors\" and computer_choice == \"paper\")\n",
    "    ):\n",
    "        return \"You win!\"\n",
    "    else:\n",
    "        return \"Computer wins!\"\n",
    "\n",
    "# Main game loop\n",
    "while True:\n",
    "    user_choice = get_user_choice()\n",
    "    computer_choice = get_computer_choice()\n",
    "\n",
    "    print(f\"You chose {user_choice}.\")\n",
    "    print(f\"Computer chose {computer_choice}.\")\n",
    "\n",
    "    result = determine_winner(user_choice, computer_choice)\n",
    "    print(result)\n",
    "\n",
    "    play_again = input(\"Do you want to play again? (yes/no): \").lower()\n",
    "    if play_again != \"yes\":\n",
    "        break"
   ]
  },
  {
   "cell_type": "code",
   "execution_count": 4,
   "id": "9beffc70-7936-4118-bb94-b0fb77af8ed7",
   "metadata": {},
   "outputs": [
    {
     "name": "stdin",
     "output_type": "stream",
     "text": [
      "Enter password length:  5\n"
     ]
    },
    {
     "name": "stdout",
     "output_type": "stream",
     "text": [
      "Choose character set for password from these : \n",
      "         1. Digits\n",
      "         2. Letters\n",
      "         3. Special characters\n",
      "         4. Exit\n"
     ]
    },
    {
     "name": "stdin",
     "output_type": "stream",
     "text": [
      "Pick a number  1\n",
      "Pick a number  2\n",
      "Pick a number  4\n"
     ]
    },
    {
     "name": "stdout",
     "output_type": "stream",
     "text": [
      "The random password is y0yi4\n"
     ]
    }
   ],
   "source": [
    "'''23. Develop a program that generates a random password based on user preferences (length, complexity).'''\n",
    "\n",
    "import string\n",
    "import random\n",
    " \n",
    "# Getting password length\n",
    "length = int(input(\"Enter password length: \"))\n",
    " \n",
    "print('''Choose character set for password from these : \n",
    "         1. Digits\n",
    "         2. Letters\n",
    "         3. Special characters\n",
    "         4. Exit''')\n",
    " \n",
    "characterList = \"\"\n",
    " \n",
    "# Getting character set for password\n",
    "while(True):\n",
    "    choice = int(input(\"Pick a number \"))\n",
    "    if(choice == 1):\n",
    "         \n",
    "        # Adding letters to possible characters\n",
    "        characterList += string.digits\n",
    "    elif(choice == 2):\n",
    "         \n",
    "        # Adding digits to possible characters\n",
    "        characterList += string.ascii_letters\n",
    "    elif(choice == 3):\n",
    "         \n",
    "        # Adding special characters to possible\n",
    "        # characters\n",
    "        characterList += string.punctuation\n",
    "    elif(choice == 4):\n",
    "        break\n",
    "    else:\n",
    "        print(\"Please pick a valid option!\")\n",
    " \n",
    "password = []\n",
    " \n",
    "for i in range(length):\n",
    "   \n",
    "    # Picking a random character from our \n",
    "    # character list\n",
    "    randomchar = random.choice(characterList)\n",
    "     \n",
    "    # appending a random character to password\n",
    "    password.append(randomchar)\n",
    " \n",
    "# printing password as a string\n",
    "print(\"The random password is \" + \"\".join(password))"
   ]
  },
  {
   "cell_type": "code",
   "execution_count": 1,
   "id": "c985f081-eb5f-488c-87c3-31f803fe4906",
   "metadata": {},
   "outputs": [
    {
     "name": "stdout",
     "output_type": "stream",
     "text": [
      "Welcome to the Text Adventure Game!\n",
      "You find yourself in a mysterious forest.\n",
      "You hear rustling in the bushes and see two paths ahead.\n",
      "Choose your action:\n",
      "1. Enter the mysterious forest.\n",
      "2. Take the path leading to a dark cave.\n"
     ]
    },
    {
     "name": "stdin",
     "output_type": "stream",
     "text": [
      "Enter the number of your choice:  2\n"
     ]
    },
    {
     "name": "stdout",
     "output_type": "stream",
     "text": [
      "You choose the path leading to a dark cave.\n",
      "Inside the cave, you discover a treasure chest guarded by a dragon!\n",
      "Choose your action:\n",
      "1. Attempt to sneak past the dragon.\n",
      "2. Confront the dragon.\n"
     ]
    },
    {
     "name": "stdin",
     "output_type": "stream",
     "text": [
      "Enter the number of your choice:  1\n"
     ]
    },
    {
     "name": "stdout",
     "output_type": "stream",
     "text": [
      "You successfully sneak past the dragon and find a valuable gem!\n",
      "You continue your journey.\n",
      "Congratulations! You've completed the adventure.\n"
     ]
    }
   ],
   "source": [
    "'''24. Create a program that implements a simple text-based adventure game with branching scenarios.'''\n",
    "\n",
    "import time\n",
    "\n",
    "def introduction():\n",
    "    print(\"Welcome to the Text Adventure Game!\")\n",
    "    time.sleep(1)\n",
    "    print(\"You find yourself in a mysterious forest.\")\n",
    "    time.sleep(1)\n",
    "    print(\"You hear rustling in the bushes and see two paths ahead.\")\n",
    "    time.sleep(1)\n",
    "\n",
    "def make_choice(options):\n",
    "    print(\"Choose your action:\")\n",
    "    for i, option in enumerate(options, 1):\n",
    "        print(f\"{i}. {option}\")\n",
    "\n",
    "    while True:\n",
    "        try:\n",
    "            choice = int(input(\"Enter the number of your choice: \"))\n",
    "            if 1 <= choice <= len(options):\n",
    "                return choice\n",
    "            else:\n",
    "                print(\"Invalid choice. Please enter a valid number.\")\n",
    "        except ValueError:\n",
    "            print(\"Invalid input. Please enter a number.\")\n",
    "\n",
    "def forest_scenario():\n",
    "    print(\"You decide to enter the forest.\")\n",
    "    time.sleep(1)\n",
    "    print(\"As you walk deeper, you find a clearing with a magical fountain.\")\n",
    "    time.sleep(1)\n",
    "    print(\"You see a mysterious figure offering you a drink.\")\n",
    "    time.sleep(1)\n",
    "\n",
    "    options = [\"Accept the drink.\", \"Decline and leave.\"]\n",
    "    choice = make_choice(options)\n",
    "\n",
    "    if choice == 1:\n",
    "        print(\"You feel a surge of energy and gain a special ability!\")\n",
    "        time.sleep(1)\n",
    "        print(\"You continue your journey.\")\n",
    "    else:\n",
    "        print(\"You decline the offer and cautiously leave the clearing.\")\n",
    "        time.sleep(1)\n",
    "        print(\"As you walk away, you hear the figure laughing softly.\")\n",
    "\n",
    "def cave_scenario():\n",
    "    print(\"You choose the path leading to a dark cave.\")\n",
    "    time.sleep(1)\n",
    "    print(\"Inside the cave, you discover a treasure chest guarded by a dragon!\")\n",
    "    time.sleep(1)\n",
    "\n",
    "    options = [\"Attempt to sneak past the dragon.\", \"Confront the dragon.\"]\n",
    "    choice = make_choice(options)\n",
    "\n",
    "    if choice == 1:\n",
    "        print(\"You successfully sneak past the dragon and find a valuable gem!\")\n",
    "        time.sleep(1)\n",
    "        print(\"You continue your journey.\")\n",
    "    else:\n",
    "        print(\"You bravely confront the dragon.\")\n",
    "        time.sleep(1)\n",
    "        print(\"The dragon is impressed by your courage and grants you a reward!\")\n",
    "        time.sleep(1)\n",
    "        print(\"You continue your journey with the dragon's blessing.\")\n",
    "\n",
    "def main():\n",
    "    introduction()\n",
    "\n",
    "    options = [\"Enter the mysterious forest.\", \"Take the path leading to a dark cave.\"]\n",
    "    choice = make_choice(options)\n",
    "\n",
    "    if choice == 1:\n",
    "        forest_scenario()\n",
    "    else:\n",
    "        cave_scenario()\n",
    "\n",
    "    print(\"Congratulations! You've completed the adventure.\")\n",
    "\n",
    "if __name__ == \"__main__\":\n",
    "    main()"
   ]
  },
  {
   "cell_type": "code",
   "execution_count": 2,
   "id": "73531871-5762-49cb-b72f-646548aafaca",
   "metadata": {},
   "outputs": [
    {
     "name": "stdout",
     "output_type": "stream",
     "text": [
      "Linear Equation Solver: ax + b = 0\n"
     ]
    },
    {
     "name": "stdin",
     "output_type": "stream",
     "text": [
      "Enter the coefficient a:  2\n",
      "Enter the coefficient b:  4\n"
     ]
    },
    {
     "name": "stdout",
     "output_type": "stream",
     "text": [
      "The solution is x = -2.0\n"
     ]
    }
   ],
   "source": [
    "'''25. Build a program that solves a linear equation for x, considering different cases.'''\n",
    "\n",
    "def solve_linear_equation(a, b):\n",
    "    if a == 0:\n",
    "        if b == 0:\n",
    "            return \"Infinite solutions (identity equation)\"\n",
    "        else:\n",
    "            return \"No solution (contradiction)\"\n",
    "    else:\n",
    "        x = -b / a\n",
    "        return f\"The solution is x = {x}\"\n",
    "\n",
    "def get_user_input():\n",
    "    try:\n",
    "        a = float(input(\"Enter the coefficient a: \"))\n",
    "        b = float(input(\"Enter the coefficient b: \"))\n",
    "        return a, b\n",
    "    except ValueError:\n",
    "        print(\"Invalid input. Please enter numerical coefficients.\")\n",
    "        return get_user_input()\n",
    "\n",
    "def main():\n",
    "    print(\"Linear Equation Solver: ax + b = 0\")\n",
    "    a, b = get_user_input()\n",
    "    solution = solve_linear_equation(a, b)\n",
    "    print(solution)\n",
    "\n",
    "if __name__ == \"__main__\":\n",
    "    main()"
   ]
  },
  {
   "cell_type": "code",
   "execution_count": 1,
   "id": "ca841bfd-fb0a-4943-bd9b-fa513ff79c97",
   "metadata": {},
   "outputs": [
    {
     "name": "stdout",
     "output_type": "stream",
     "text": [
      "What is the capital of France?\n",
      "1. Berlin\n",
      "2. Paris\n",
      "3. Madrid\n",
      "4. Rome\n"
     ]
    },
    {
     "name": "stdin",
     "output_type": "stream",
     "text": [
      "Your answer (enter the number corresponding to your choice):  2\n"
     ]
    },
    {
     "name": "stdout",
     "output_type": "stream",
     "text": [
      "Correct!\n",
      "\n",
      "Which planet is known as the Red Planet?\n",
      "1. Venus\n",
      "2. Mars\n",
      "3. Jupiter\n",
      "4. Saturn\n"
     ]
    },
    {
     "name": "stdin",
     "output_type": "stream",
     "text": [
      "Your answer (enter the number corresponding to your choice):  2\n"
     ]
    },
    {
     "name": "stdout",
     "output_type": "stream",
     "text": [
      "Correct!\n",
      "\n",
      "What is the largest mammal on Earth?\n",
      "1. Elephant\n",
      "2. Blue Whale\n",
      "3. Giraffe\n",
      "4. Hippopotamus\n"
     ]
    },
    {
     "name": "stdin",
     "output_type": "stream",
     "text": [
      "Your answer (enter the number corresponding to your choice):  2\n"
     ]
    },
    {
     "name": "stdout",
     "output_type": "stream",
     "text": [
      "Correct!\n",
      "\n",
      "Quiz completed! Your final score: 3/3\n"
     ]
    }
   ],
   "source": [
    "'''26. Write a program that simulates a basic quiz game with multiple-choice questions and scoring.'''\n",
    "\n",
    "class QuizGame:\n",
    "    def __init__(self, questions):\n",
    "        self.questions = questions\n",
    "        self.score = 0\n",
    "\n",
    "    def display_question(self, question):\n",
    "        print(question['question'])\n",
    "        for i, option in enumerate(question['options'], 1):\n",
    "            print(f\"{i}. {option}\")\n",
    "        user_answer = input(\"Your answer (enter the number corresponding to your choice): \")\n",
    "        return int(user_answer)\n",
    "\n",
    "    def play_game(self):\n",
    "        for question in self.questions:\n",
    "            user_answer = self.display_question(question)\n",
    "            correct_answer = question['correct_option']\n",
    "\n",
    "            if user_answer == correct_answer:\n",
    "                print(\"Correct!\\n\")\n",
    "                self.score += 1\n",
    "            else:\n",
    "                print(f\"Wrong! The correct answer was {correct_answer}: {question['options'][correct_answer-1]}\\n\")\n",
    "\n",
    "        print(f\"Quiz completed! Your final score: {self.score}/{len(self.questions)}\")\n",
    "\n",
    "\n",
    "# Example questions\n",
    "questions = [\n",
    "    {\n",
    "        'question': 'What is the capital of France?',\n",
    "        'options': ['Berlin', 'Paris', 'Madrid', 'Rome'],\n",
    "        'correct_option': 2\n",
    "    },\n",
    "    {\n",
    "        'question': 'Which planet is known as the Red Planet?',\n",
    "        'options': ['Venus', 'Mars', 'Jupiter', 'Saturn'],\n",
    "        'correct_option': 2\n",
    "    },\n",
    "    {\n",
    "        'question': 'What is the largest mammal on Earth?',\n",
    "        'options': ['Elephant', 'Blue Whale', 'Giraffe', 'Hippopotamus'],\n",
    "        'correct_option': 2\n",
    "    }\n",
    "]\n",
    "\n",
    "# Create and play the quiz game\n",
    "quiz_game = QuizGame(questions)\n",
    "quiz_game.play_game()"
   ]
  },
  {
   "cell_type": "code",
   "execution_count": 6,
   "id": "5c7f048a-a62c-4ede-943b-a19994146ce0",
   "metadata": {},
   "outputs": [
    {
     "name": "stdin",
     "output_type": "stream",
     "text": [
      "Enter a year:  2024\n"
     ]
    },
    {
     "name": "stdout",
     "output_type": "stream",
     "text": [
      "2024 is not a prime number.\n"
     ]
    }
   ],
   "source": [
    "'''27. Develop a program that determines whether a given year is a prime number or not.'''\n",
    "\n",
    "def is_prime(year):\n",
    "    if year <= 1:\n",
    "        return False\n",
    "    for num in range(2, int(year/2) + 1):\n",
    "        if year % num == 0:\n",
    "            return False\n",
    "    return True\n",
    "\n",
    "year = int(input(\"Enter a year: \"))\n",
    "if is_prime(year):\n",
    "    print(year, \"is a prime number!\")\n",
    "else:\n",
    "    print(year, \"is not a prime number.\")"
   ]
  },
  {
   "cell_type": "code",
   "execution_count": 5,
   "id": "0e4fe44f-acfd-4103-8950-65d128f6431e",
   "metadata": {},
   "outputs": [
    {
     "name": "stdin",
     "output_type": "stream",
     "text": [
      "Enter the first number:  25\n",
      "Enter the second number:  6\n",
      "Enter the third number:  100\n"
     ]
    },
    {
     "name": "stdout",
     "output_type": "stream",
     "text": [
      "Sorted numbers in ascending order: (6.0, 25.0, 100.0)\n"
     ]
    }
   ],
   "source": [
    "'''28. Create a program that sorts three numbers in ascending order using conditional statements.'''\n",
    "\n",
    "# Function to sort three numbers in ascending order\n",
    "def sort_numbers(num1, num2, num3):\n",
    "    if num1 <= num2 and num1 <= num3:\n",
    "        smallest = num1\n",
    "        if num2 <= num3:\n",
    "            middle = num2\n",
    "            largest = num3\n",
    "        else:\n",
    "            middle = num3\n",
    "            largest = num2\n",
    "    elif num2 <= num1 and num2 <= num3:\n",
    "        smallest = num2\n",
    "        if num1 <= num3:\n",
    "            middle = num1\n",
    "            largest = num3\n",
    "        else:\n",
    "            middle = num3\n",
    "            largest = num1\n",
    "    else:\n",
    "        smallest = num3\n",
    "        if num1 <= num2:\n",
    "            middle = num1\n",
    "            largest = num2\n",
    "        else:\n",
    "            middle = num2\n",
    "            largest = num1\n",
    "    \n",
    "    return smallest, middle, largest\n",
    "\n",
    "# Taking user input for three numbers\n",
    "num1 = float(input(\"Enter the first number: \"))\n",
    "num2 = float(input(\"Enter the second number: \"))\n",
    "num3 = float(input(\"Enter the third number: \"))\n",
    "\n",
    "# Sorting the numbers\n",
    "sorted_numbers = sort_numbers(num1, num2, num3)\n",
    "\n",
    "# Displaying the sorted numbers\n",
    "print(\"Sorted numbers in ascending order:\", sorted_numbers)"
   ]
  },
  {
   "cell_type": "code",
   "execution_count": 12,
   "id": "67deb5c3-5022-48fb-9dc5-752fa1babfba",
   "metadata": {},
   "outputs": [
    {
     "name": "stdout",
     "output_type": "stream",
     "text": [
      "Roots: [3.0000000000000377]\n"
     ]
    }
   ],
   "source": [
    "'''29. Build a program that determines the roots of a quartic equation using numerical methods.'''\n",
    "\n",
    "import numpy as np\n",
    "\n",
    "def quartic_equation_roots(a, b, c, d, e, epsilon=1e-6, max_iterations=100):\n",
    "    def f(x):\n",
    "        return a * x**4 + b * x**3 + c * x**2 + d * x + e\n",
    "    \n",
    "    def f_prime(x):\n",
    "        return 4 * a * x**3 + 3 * b * x**2 + 2 * c * x + d\n",
    "    \n",
    "    def newton_method(x):\n",
    "        for _ in range(max_iterations):\n",
    "            delta_x = f(x) / f_prime(x)\n",
    "            x -= delta_x\n",
    "            if abs(delta_x) < epsilon:\n",
    "                return x\n",
    "        return None\n",
    "    \n",
    "    roots = []\n",
    "    \n",
    "    # Find the first root\n",
    "    x = np.random.uniform(-10, 10)  # Initial guess for the first root\n",
    "    root = newton_method(x)\n",
    "    if root is not None:\n",
    "        roots.append(root)\n",
    "    \n",
    "    # Divide the quartic equation by (x - root) to obtain a cubic equation\n",
    "    a, b, c, d = np.polydiv([a, b, c, d, e], [1, -root])[0]\n",
    "    \n",
    "    # Find the remaining roots using the cubic equation\n",
    "    cubic_roots = np.roots([a, b, c, d])\n",
    "    for cubic_root in cubic_roots:\n",
    "        x = cubic_root\n",
    "        root = newton_method(x)\n",
    "        if root is not None:\n",
    "            roots.append(root)\n",
    "    \n",
    "    return roots\n",
    "\n",
    "# Example usage\n",
    "a = 1\n",
    "b = -10\n",
    "c = 35\n",
    "d = -50\n",
    "e = 24\n",
    "\n",
    "roots = quartic_equation_roots(a, b, c, d, e)\n",
    "print(\"Roots:\", roots)"
   ]
  },
  {
   "cell_type": "code",
   "execution_count": 13,
   "id": "30a41c7a-759e-4ebf-95fb-ef3c059d5916",
   "metadata": {},
   "outputs": [
    {
     "name": "stdin",
     "output_type": "stream",
     "text": [
      "Enter your weight in kilograms:  75\n",
      "Enter your height in meters:  1.73\n"
     ]
    },
    {
     "name": "stdout",
     "output_type": "stream",
     "text": [
      "Your BMI is: 25.05930702662969\n",
      "Health Recommendation: You are overweight. Regular exercise and a balanced diet can help you maintain a healthier weight.\n"
     ]
    }
   ],
   "source": [
    "'''30. Write a program that calculates the BMI (Body Mass Index) and provides health recommendations based\n",
    "on the user's input.'''\n",
    "\n",
    "def calculate_bmi(weight, height):\n",
    "    bmi = weight / (height ** 2)\n",
    "    return bmi\n",
    "\n",
    "def get_health_recommendation(bmi):\n",
    "    if bmi < 18.5:\n",
    "        return \"You are underweight. It's important to maintain a balanced diet and consider consulting a nutritionist.\"\n",
    "    elif 18.5 <= bmi < 25:\n",
    "        return \"You are within a healthy weight range. Keep up the good work!\"\n",
    "    elif 25 <= bmi < 30:\n",
    "        return \"You are overweight. Regular exercise and a balanced diet can help you maintain a healthier weight.\"\n",
    "    else:\n",
    "        return \"You are obese. It's important to prioritize your health and consider consulting a healthcare professional.\"\n",
    "\n",
    "# Getting user input\n",
    "weight = float(input(\"Enter your weight in kilograms: \"))\n",
    "height = float(input(\"Enter your height in meters: \"))\n",
    "\n",
    "# Calculating BMI\n",
    "bmi = calculate_bmi(weight, height)\n",
    "\n",
    "# Providing health recommendations\n",
    "recommendation = get_health_recommendation(bmi)\n",
    "\n",
    "# Displaying the results\n",
    "print(\"Your BMI is:\", bmi)\n",
    "print(\"Health Recommendation:\", recommendation)"
   ]
  },
  {
   "cell_type": "raw",
   "id": "2bbc21d3-2382-49bd-a584-1e628925d04f",
   "metadata": {},
   "source": [
    "> Challenge Level :"
   ]
  },
  {
   "cell_type": "code",
   "execution_count": 15,
   "id": "3b57a8d6-97a1-4a99-ba98-854370b7bba4",
   "metadata": {},
   "outputs": [
    {
     "name": "stdin",
     "output_type": "stream",
     "text": [
      "Enter your password:  Ketan@12345\n"
     ]
    },
    {
     "name": "stdout",
     "output_type": "stream",
     "text": [
      "Password is valid.\n"
     ]
    }
   ],
   "source": [
    "'''31. Create a program that validates a password based on complexity rules (length, characters, etc.).'''\n",
    "\n",
    "import re\n",
    "\n",
    "def validate_password(password):\n",
    "    # Check length\n",
    "    if len(password) < 8:\n",
    "        return \"Password must be at least 8 characters long.\"\n",
    "    \n",
    "    # Check for uppercase, lowercase, and digits\n",
    "    if not re.search(r'[A-Z]', password):\n",
    "        return \"Password must contain at least one uppercase letter.\"\n",
    "    if not re.search(r'[a-z]', password):\n",
    "        return \"Password must contain at least one lowercase letter.\"\n",
    "    if not re.search(r'\\d', password):\n",
    "        return \"Password must contain at least one digit.\"\n",
    "    \n",
    "    # Check for special characters\n",
    "    if not re.search(r'[!@#$%^&*(),.?\":{}|<>]', password):\n",
    "        return \"Password must contain at least one special character.\"\n",
    "    \n",
    "    # Password is valid\n",
    "    return \"Password is valid.\"\n",
    "\n",
    "# Getting user input\n",
    "password = input(\"Enter your password: \")\n",
    "\n",
    "# Validating the password\n",
    "validation_result = validate_password(password)\n",
    "\n",
    "# Displaying the result\n",
    "print(validation_result)"
   ]
  },
  {
   "cell_type": "code",
   "execution_count": 1,
   "id": "15921543-df26-4387-8590-4537ce3009bf",
   "metadata": {},
   "outputs": [
    {
     "name": "stdin",
     "output_type": "stream",
     "text": [
      "Enter the number of rows:  2\n",
      "Enter the number of columns:  2\n"
     ]
    },
    {
     "name": "stdout",
     "output_type": "stream",
     "text": [
      "\n",
      "Enter elements for the first matrix:\n"
     ]
    },
    {
     "name": "stdin",
     "output_type": "stream",
     "text": [
      "Enter element at position (1,1):  1\n",
      "Enter element at position (1,2):  2\n",
      "Enter element at position (2,1):  3\n",
      "Enter element at position (2,2):  4\n"
     ]
    },
    {
     "name": "stdout",
     "output_type": "stream",
     "text": [
      "Matrix 1:\n",
      "[1.0, 2.0]\n",
      "[3.0, 4.0]\n",
      "\n",
      "\n",
      "Enter elements for the second matrix:\n"
     ]
    },
    {
     "name": "stdin",
     "output_type": "stream",
     "text": [
      "Enter element at position (1,1):  2\n",
      "Enter element at position (1,2):  1\n",
      "Enter element at position (2,1):  4\n",
      "Enter element at position (2,2):  3\n"
     ]
    },
    {
     "name": "stdout",
     "output_type": "stream",
     "text": [
      "Matrix 2:\n",
      "[2.0, 1.0]\n",
      "[4.0, 3.0]\n",
      "\n",
      "Matrix Addition Result:\n",
      "[3.0, 3.0]\n",
      "[7.0, 7.0]\n",
      "\n",
      "Matrix Subtraction Result:\n",
      "[-1.0, 1.0]\n",
      "[-1.0, 1.0]\n",
      "\n"
     ]
    }
   ],
   "source": [
    "'''32. Develop a program that performs matrix addition and subtraction based on user input.'''\n",
    "\n",
    "def matrix_addition(matrix1, matrix2):\n",
    "    \"\"\"\n",
    "    Perform matrix addition.\n",
    "    \"\"\"\n",
    "    result_matrix = [[matrix1[i][j] + matrix2[i][j] for j in range(len(matrix1[0]))] for i in range(len(matrix1))]\n",
    "    return result_matrix\n",
    "\n",
    "def matrix_subtraction(matrix1, matrix2):\n",
    "    \"\"\"\n",
    "    Perform matrix subtraction.\n",
    "    \"\"\"\n",
    "    result_matrix = [[matrix1[i][j] - matrix2[i][j] for j in range(len(matrix1[0]))] for i in range(len(matrix1))]\n",
    "    return result_matrix\n",
    "\n",
    "def input_matrix(rows, columns):\n",
    "    \"\"\"\n",
    "    Take user input for a matrix.\n",
    "    \"\"\"\n",
    "    matrix = []\n",
    "    for i in range(rows):\n",
    "        row = [float(input(f\"Enter element at position ({i + 1},{j + 1}): \")) for j in range(columns)]\n",
    "        matrix.append(row)\n",
    "    return matrix\n",
    "\n",
    "def display_matrix(matrix, label=\"Matrix\"):\n",
    "    \"\"\"\n",
    "    Display a matrix.\n",
    "    \"\"\"\n",
    "    print(f\"{label}:\")\n",
    "    for row in matrix:\n",
    "        print(row)\n",
    "    print()\n",
    "\n",
    "def main():\n",
    "    try:\n",
    "        # Input matrix dimensions\n",
    "        rows = int(input(\"Enter the number of rows: \"))\n",
    "        columns = int(input(\"Enter the number of columns: \"))\n",
    "\n",
    "        # Input the first matrix\n",
    "        print(\"\\nEnter elements for the first matrix:\")\n",
    "        matrix1 = input_matrix(rows, columns)\n",
    "        display_matrix(matrix1, \"Matrix 1\")\n",
    "\n",
    "        # Input the second matrix\n",
    "        print(\"\\nEnter elements for the second matrix:\")\n",
    "        matrix2 = input_matrix(rows, columns)\n",
    "        display_matrix(matrix2, \"Matrix 2\")\n",
    "\n",
    "        # Perform matrix addition\n",
    "        result_addition = matrix_addition(matrix1, matrix2)\n",
    "        display_matrix(result_addition, \"Matrix Addition Result\")\n",
    "\n",
    "        # Perform matrix subtraction\n",
    "        result_subtraction = matrix_subtraction(matrix1, matrix2)\n",
    "        display_matrix(result_subtraction, \"Matrix Subtraction Result\")\n",
    "\n",
    "    except ValueError:\n",
    "        print(\"Invalid input. Please enter valid numeric values.\")\n",
    "\n",
    "if __name__ == \"__main__\":\n",
    "    main()"
   ]
  },
  {
   "cell_type": "code",
   "execution_count": 4,
   "id": "691e31be-5407-4d8d-b76b-400a09efad5c",
   "metadata": {},
   "outputs": [
    {
     "name": "stdin",
     "output_type": "stream",
     "text": [
      "Enter the first number:  48\n",
      "Enter the second number:  18\n"
     ]
    },
    {
     "name": "stdout",
     "output_type": "stream",
     "text": [
      "The GCD of 48 and 18 is: 6\n"
     ]
    }
   ],
   "source": [
    "'''33. Write a program that calculates the greatest common divisor (GCD) of two numbers using the Euclidean algorithm.'''\n",
    "\n",
    "def euclidean_gcd(a, b):\n",
    "    \"\"\"\n",
    "    Calculate the greatest common divisor (GCD) using the Euclidean algorithm.\n",
    "    \"\"\"\n",
    "    # The Euclidean algorithm continues until b becomes zero\n",
    "    while b:\n",
    "        # Update 'a' with the value of 'b', and 'b' with the remainder of 'a' divided by 'b'\n",
    "        a, b = b, a % b\n",
    "    \n",
    "    # 'a' now holds the GCD, take the absolute value to ensure it's positive\n",
    "    return abs(a)\n",
    "\n",
    "def main():\n",
    "    try:\n",
    "        # Take user input for the first number\n",
    "        num1 = int(input(\"Enter the first number: \"))\n",
    "        \n",
    "        # Take user input for the second number\n",
    "        num2 = int(input(\"Enter the second number: \"))\n",
    "\n",
    "        # Call the euclidean_gcd function with the input numbers\n",
    "        gcd_result = euclidean_gcd(num1, num2)\n",
    "\n",
    "        # Display the result\n",
    "        print(f\"The GCD of {num1} and {num2} is: {gcd_result}\")\n",
    "\n",
    "    except ValueError:\n",
    "        # Handle the case where the user enters non-numeric values\n",
    "        print(\"Invalid input. Please enter valid numeric values.\")\n",
    "\n",
    "if __name__ == \"__main__\":\n",
    "    # Execute the main function if the script is run directly\n",
    "    main()"
   ]
  },
  {
   "cell_type": "code",
   "execution_count": 5,
   "id": "14b05662-fd29-4828-b488-12b2d2cfc0ef",
   "metadata": {},
   "outputs": [
    {
     "name": "stdin",
     "output_type": "stream",
     "text": [
      "Enter the number of rows for the first matrix:  2\n",
      "Enter the number of columns for the first matrix:  2\n"
     ]
    },
    {
     "name": "stdout",
     "output_type": "stream",
     "text": [
      "\n",
      "Enter elements for the first matrix:\n"
     ]
    },
    {
     "name": "stdin",
     "output_type": "stream",
     "text": [
      "Enter element at position (1,1):  9\n",
      "Enter element at position (1,2):  8\n",
      "Enter element at position (2,1):  7\n",
      "Enter element at position (2,2):  6\n"
     ]
    },
    {
     "name": "stdout",
     "output_type": "stream",
     "text": [
      "Matrix 1:\n",
      "[9.0, 8.0]\n",
      "[7.0, 6.0]\n",
      "\n"
     ]
    },
    {
     "name": "stdin",
     "output_type": "stream",
     "text": [
      "Enter the number of rows for the second matrix:  2\n",
      "Enter the number of columns for the second matrix:  2\n"
     ]
    },
    {
     "name": "stdout",
     "output_type": "stream",
     "text": [
      "\n",
      "Enter elements for the second matrix:\n"
     ]
    },
    {
     "name": "stdin",
     "output_type": "stream",
     "text": [
      "Enter element at position (1,1):  1\n",
      "Enter element at position (1,2):  2\n",
      "Enter element at position (2,1):  3\n",
      "Enter element at position (2,2):  4\n"
     ]
    },
    {
     "name": "stdout",
     "output_type": "stream",
     "text": [
      "Matrix 2:\n",
      "[1.0, 2.0]\n",
      "[3.0, 4.0]\n",
      "\n",
      "Matrix Multiplication Result:\n",
      "[33.0, 50.0]\n",
      "[25.0, 38.0]\n",
      "\n"
     ]
    }
   ],
   "source": [
    "'''34. Build a program that performs matrix multiplication using nested loops and conditional statements.'''\n",
    "\n",
    "def matrix_multiplication(matrix1, matrix2):\n",
    "    \"\"\"\n",
    "    Perform matrix multiplication.\n",
    "    \"\"\"\n",
    "    rows_matrix1 = len(matrix1)\n",
    "    cols_matrix1 = len(matrix1[0])\n",
    "    rows_matrix2 = len(matrix2)\n",
    "    cols_matrix2 = len(matrix2[0])\n",
    "\n",
    "    # Check if the matrices can be multiplied\n",
    "    if cols_matrix1 != rows_matrix2:\n",
    "        raise ValueError(\"Number of columns in the first matrix must be equal to the number of rows in the second matrix.\")\n",
    "\n",
    "    # Initialize the result matrix with zeros\n",
    "    result_matrix = [[0 for _ in range(cols_matrix2)] for _ in range(rows_matrix1)]\n",
    "\n",
    "    # Perform matrix multiplication\n",
    "    for i in range(rows_matrix1):\n",
    "        for j in range(cols_matrix2):\n",
    "            for k in range(cols_matrix1):\n",
    "                result_matrix[i][j] += matrix1[i][k] * matrix2[k][j]\n",
    "\n",
    "    return result_matrix\n",
    "\n",
    "def input_matrix(rows, columns):\n",
    "    \"\"\"\n",
    "    Take user input for a matrix.\n",
    "    \"\"\"\n",
    "    matrix = []\n",
    "    for i in range(rows):\n",
    "        row = [float(input(f\"Enter element at position ({i + 1},{j + 1}): \")) for j in range(columns)]\n",
    "        matrix.append(row)\n",
    "    return matrix\n",
    "\n",
    "def display_matrix(matrix, label=\"Matrix\"):\n",
    "    \"\"\"\n",
    "    Display a matrix.\n",
    "    \"\"\"\n",
    "    print(f\"{label}:\")\n",
    "    for row in matrix:\n",
    "        print(row)\n",
    "    print()\n",
    "\n",
    "def main():\n",
    "    try:\n",
    "        # Input dimensions for the first matrix\n",
    "        rows_matrix1 = int(input(\"Enter the number of rows for the first matrix: \"))\n",
    "        cols_matrix1 = int(input(\"Enter the number of columns for the first matrix: \"))\n",
    "\n",
    "        # Input the first matrix\n",
    "        print(\"\\nEnter elements for the first matrix:\")\n",
    "        matrix1 = input_matrix(rows_matrix1, cols_matrix1)\n",
    "        display_matrix(matrix1, \"Matrix 1\")\n",
    "\n",
    "        # Input dimensions for the second matrix\n",
    "        rows_matrix2 = int(input(\"Enter the number of rows for the second matrix: \"))\n",
    "        cols_matrix2 = int(input(\"Enter the number of columns for the second matrix: \"))\n",
    "\n",
    "        # Input the second matrix\n",
    "        print(\"\\nEnter elements for the second matrix:\")\n",
    "        matrix2 = input_matrix(rows_matrix2, cols_matrix2)\n",
    "        display_matrix(matrix2, \"Matrix 2\")\n",
    "\n",
    "        # Perform matrix multiplication\n",
    "        result_multiplication = matrix_multiplication(matrix1, matrix2)\n",
    "        display_matrix(result_multiplication, \"Matrix Multiplication Result\")\n",
    "\n",
    "    except ValueError as e:\n",
    "        print(f\"Error: {e}\")\n",
    "\n",
    "if __name__ == \"__main__\":\n",
    "    main()"
   ]
  },
  {
   "cell_type": "code",
   "execution_count": 1,
   "id": "429b78f1-ce12-47a5-ae51-1391b3196a28",
   "metadata": {},
   "outputs": [
    {
     "name": "stdout",
     "output_type": "stream",
     "text": [
      "  |   |  \n",
      "---------\n",
      "  |   |  \n",
      "---------\n",
      "  |   |  \n",
      "---------\n"
     ]
    },
    {
     "name": "stdin",
     "output_type": "stream",
     "text": [
      "Enter the row (1, 2, or 3):  1\n",
      "Enter the column (1, 2, or 3):  1\n"
     ]
    },
    {
     "name": "stdout",
     "output_type": "stream",
     "text": [
      "Computer's move:\n",
      "X |   |  \n",
      "---------\n",
      "  | O |  \n",
      "---------\n",
      "  |   |  \n",
      "---------\n"
     ]
    },
    {
     "name": "stdin",
     "output_type": "stream",
     "text": [
      "Enter the row (1, 2, or 3):  2\n",
      "Enter the column (1, 2, or 3):  2\n"
     ]
    },
    {
     "name": "stdout",
     "output_type": "stream",
     "text": [
      "Cell already taken. Try again.\n",
      "X |   |  \n",
      "---------\n",
      "  | O |  \n",
      "---------\n",
      "  |   |  \n",
      "---------\n"
     ]
    },
    {
     "name": "stdin",
     "output_type": "stream",
     "text": [
      "Enter the row (1, 2, or 3):  2\n",
      "Enter the column (1, 2, or 3):  1\n"
     ]
    },
    {
     "name": "stdout",
     "output_type": "stream",
     "text": [
      "Computer's move:\n",
      "X |   |  \n",
      "---------\n",
      "X | O |  \n",
      "---------\n",
      "  |   | O\n",
      "---------\n"
     ]
    },
    {
     "name": "stdin",
     "output_type": "stream",
     "text": [
      "Enter the row (1, 2, or 3):  3\n",
      "Enter the column (1, 2, or 3):  1\n"
     ]
    },
    {
     "name": "stdout",
     "output_type": "stream",
     "text": [
      "X |   |  \n",
      "---------\n",
      "X | O |  \n",
      "---------\n",
      "X |   | O\n",
      "---------\n",
      "Congratulations! You win!\n"
     ]
    }
   ],
   "source": [
    "'''35. Create a program that simulates a basic text-based tic-tac-toe game against the computer.'''\n",
    "\n",
    "import random\n",
    "\n",
    "def print_board(board):\n",
    "    \"\"\"\n",
    "    Print the Tic-Tac-Toe board.\n",
    "    \"\"\"\n",
    "    for row in board:\n",
    "        print(\" | \".join(row))\n",
    "        print(\"-\" * 9)\n",
    "\n",
    "def check_winner(board, player):\n",
    "    \"\"\"\n",
    "    Check if the given player has won.\n",
    "    \"\"\"\n",
    "    for row in board:\n",
    "        if all(cell == player for cell in row):\n",
    "            return True\n",
    "\n",
    "    for col in range(3):\n",
    "        if all(board[row][col] == player for row in range(3)):\n",
    "            return True\n",
    "\n",
    "    if all(board[i][i] == player for i in range(3)) or all(board[i][2 - i] == player for i in range(3)):\n",
    "        return True\n",
    "\n",
    "    return False\n",
    "\n",
    "def is_board_full(board):\n",
    "    \"\"\"\n",
    "    Check if the board is full.\n",
    "    \"\"\"\n",
    "    return all(cell != ' ' for row in board for cell in row)\n",
    "\n",
    "def computer_move(board):\n",
    "    \"\"\"\n",
    "    Generate a random move for the computer.\n",
    "    \"\"\"\n",
    "    empty_cells = [(i, j) for i in range(3) for j in range(3) if board[i][j] == ' ']\n",
    "    return random.choice(empty_cells)\n",
    "\n",
    "def main():\n",
    "    # Initialize the Tic-Tac-Toe board\n",
    "    board = [[' ' for _ in range(3)] for _ in range(3)]\n",
    "\n",
    "    # Player symbol\n",
    "    player_symbol = 'X'\n",
    "    # Computer symbol\n",
    "    computer_symbol = 'O'\n",
    "\n",
    "    while True:\n",
    "        # Player's move\n",
    "        print_board(board)\n",
    "        try:\n",
    "            row = int(input(\"Enter the row (1, 2, or 3): \")) - 1\n",
    "            col = int(input(\"Enter the column (1, 2, or 3): \")) - 1\n",
    "\n",
    "            if board[row][col] != ' ':\n",
    "                print(\"Cell already taken. Try again.\")\n",
    "                continue\n",
    "\n",
    "            board[row][col] = player_symbol\n",
    "\n",
    "            # Check if the player wins\n",
    "            if check_winner(board, player_symbol):\n",
    "                print_board(board)\n",
    "                print(\"Congratulations! You win!\")\n",
    "                break\n",
    "\n",
    "            # Check if the board is full\n",
    "            if is_board_full(board):\n",
    "                print_board(board)\n",
    "                print(\"It's a tie!\")\n",
    "                break\n",
    "\n",
    "            # Computer's move\n",
    "            print(\"Computer's move:\")\n",
    "            computer_row, computer_col = computer_move(board)\n",
    "            board[computer_row][computer_col] = computer_symbol\n",
    "\n",
    "            # Check if the computer wins\n",
    "            if check_winner(board, computer_symbol):\n",
    "                print_board(board)\n",
    "                print(\"Computer wins! Better luck next time.\")\n",
    "                break\n",
    "\n",
    "        except (ValueError, IndexError):\n",
    "            print(\"Invalid input. Please enter a valid row and column.\")\n",
    "\n",
    "if __name__ == \"__main__\":\n",
    "    main()"
   ]
  },
  {
   "cell_type": "code",
   "execution_count": 7,
   "id": "3effee85-7827-4fd6-bf09-f943f072c19e",
   "metadata": {},
   "outputs": [
    {
     "name": "stdin",
     "output_type": "stream",
     "text": [
      "Enter the number of Fibonacci terms to generate:  10\n"
     ]
    },
    {
     "name": "stdout",
     "output_type": "stream",
     "text": [
      "Fibonacci sequence up to the 10th term: [0, 1, 1, 2, 3, 5, 8, 13, 21, 34]\n"
     ]
    }
   ],
   "source": [
    "'''36. Write a program that generates Fibonacci numbers up to a specified term using iterative methods.'''\n",
    "\n",
    "def generate_fibonacci(n):\n",
    "    \"\"\"\n",
    "    Generate Fibonacci numbers up to the nth term using an iterative method.\n",
    "    \"\"\"\n",
    "    fibonacci_sequence = [0, 1]\n",
    "\n",
    "    while len(fibonacci_sequence) < n:\n",
    "        next_term = fibonacci_sequence[-1] + fibonacci_sequence[-2]\n",
    "        fibonacci_sequence.append(next_term)\n",
    "\n",
    "    return fibonacci_sequence\n",
    "\n",
    "def main():\n",
    "    try:\n",
    "        n = int(input(\"Enter the number of Fibonacci terms to generate: \"))\n",
    "\n",
    "        if n <= 0:\n",
    "            print(\"Please enter a positive integer.\")\n",
    "        else:\n",
    "            fibonacci_sequence = generate_fibonacci(n)\n",
    "            print(f\"Fibonacci sequence up to the {n}th term: {fibonacci_sequence}\")\n",
    "\n",
    "    except ValueError:\n",
    "        print(\"Invalid input. Please enter a valid integer.\")\n",
    "\n",
    "if __name__ == \"__main__\":\n",
    "    main()"
   ]
  },
  {
   "cell_type": "code",
   "execution_count": 4,
   "id": "4afcd995-0e1d-4da5-abcc-254187dec9c1",
   "metadata": {},
   "outputs": [
    {
     "name": "stdin",
     "output_type": "stream",
     "text": [
      "Enter the value of n to calculate the nth Fibonacci term:  10\n"
     ]
    },
    {
     "name": "stdout",
     "output_type": "stream",
     "text": [
      "The 10th term of the Fibonacci sequence is: 55\n"
     ]
    }
   ],
   "source": [
    "'''37. Develop a program that calculates the nth term of the Fibonacci sequence using memoization.'''\n",
    "\n",
    "def fibonacci_memoization(n, memo={}):\n",
    "    \"\"\"\n",
    "    Calculate the nth term of the Fibonacci sequence using memoization.\n",
    "    \"\"\"\n",
    "    if n <= 1:\n",
    "        return n\n",
    "\n",
    "    # Check if the result is already memoized\n",
    "    if n in memo:\n",
    "        return memo[n]\n",
    "\n",
    "    # Calculate the Fibonacci term recursively and memoize the result\n",
    "    result = fibonacci_memoization(n - 1, memo) + fibonacci_memoization(n - 2, memo)\n",
    "    memo[n] = result\n",
    "    return result\n",
    "\n",
    "def main():\n",
    "    try:\n",
    "        n = int(input(\"Enter the value of n to calculate the nth Fibonacci term: \"))\n",
    "\n",
    "        if n < 0:\n",
    "            print(\"Please enter a non-negative integer.\")\n",
    "        else:\n",
    "            nth_term = fibonacci_memoization(n)\n",
    "            print(f\"The {n}th term of the Fibonacci sequence is: {nth_term}\")\n",
    "\n",
    "    except ValueError:\n",
    "        print(\"Invalid input. Please enter a valid integer.\")\n",
    "\n",
    "if __name__ == \"__main__\":\n",
    "    main()"
   ]
  },
  {
   "cell_type": "code",
   "execution_count": 9,
   "id": "b15ec9a5-f775-49dd-973e-b844cab4ee96",
   "metadata": {},
   "outputs": [
    {
     "name": "stdin",
     "output_type": "stream",
     "text": [
      "Enter the year:  2024\n",
      "Enter the month (1-12):  1\n"
     ]
    },
    {
     "name": "stdout",
     "output_type": "stream",
     "text": [
      "\n",
      "Calendar:\n",
      "Mo Tu We Th Fr Sa Su\n",
      " 1  2  3  4  5  6  7 \n",
      " 8  9 10 11 12 13 14 \n",
      "15 16 17 18 19 20 21 \n",
      "22 23 24 25 26 27 28 \n",
      "29 30 31             \n"
     ]
    }
   ],
   "source": [
    "'''38. Create a program that generates a calendar for a given month and year using conditional statements.'''\n",
    "\n",
    "import calendar\n",
    "\n",
    "def generate_calendar(year, month):\n",
    "    \"\"\"\n",
    "    Generate a calendar for a given month and year.\n",
    "    \"\"\"\n",
    "    cal = calendar.monthcalendar(year, month)\n",
    "    return cal\n",
    "\n",
    "def main():\n",
    "    try:\n",
    "        year = int(input(\"Enter the year: \"))\n",
    "        month = int(input(\"Enter the month (1-12): \"))\n",
    "\n",
    "        if 1 <= month <= 12:\n",
    "            cal = generate_calendar(year, month)\n",
    "            print(\"\\nCalendar:\")\n",
    "            print(\"Mo Tu We Th Fr Sa Su\")\n",
    "\n",
    "            for week in cal:\n",
    "                for day in week:\n",
    "                    if day == 0:\n",
    "                        print(\"   \", end=\"\")\n",
    "                    else:\n",
    "                        print(f\"{day:2} \", end=\"\")\n",
    "                print()\n",
    "        else:\n",
    "            print(\"Invalid month. Please enter a month between 1 and 12.\")\n",
    "\n",
    "    except ValueError:\n",
    "        print(\"Invalid input. Please enter valid integers for year and month.\")\n",
    "\n",
    "if __name__ == \"__main__\":\n",
    "    main()"
   ]
  },
  {
   "cell_type": "code",
   "execution_count": 10,
   "id": "c538b8a1-3c3f-4205-869f-72a1f0e3932c",
   "metadata": {},
   "outputs": [
    {
     "name": "stdout",
     "output_type": "stream",
     "text": [
      "Your cards: [10, 9], current score: 19\n",
      "Computer's first card: 10\n"
     ]
    },
    {
     "name": "stdin",
     "output_type": "stream",
     "text": [
      "Type 'y' to get another card, 'n' to pass:  y\n"
     ]
    },
    {
     "name": "stdout",
     "output_type": "stream",
     "text": [
      "Your cards: [10, 9, 2], current score: 21\n",
      "Computer's first card: 10\n"
     ]
    },
    {
     "name": "stdin",
     "output_type": "stream",
     "text": [
      "Type 'y' to get another card, 'n' to pass:  n\n"
     ]
    },
    {
     "name": "stdout",
     "output_type": "stream",
     "text": [
      "Your final hand: [10, 9, 2], final score: 21\n",
      "Computer's final hand: [10, 8], final score: 18\n",
      "You win!\n"
     ]
    }
   ],
   "source": [
    "'''39. Build a program that simulates a basic text-based blackjack game against the computer.'''\n",
    "\n",
    "import random\n",
    "\n",
    "def deal_card():\n",
    "    \"\"\"Deal a random card.\"\"\"\n",
    "    cards = [11, 2, 3, 4, 5, 6, 7, 8, 9, 10, 10, 10, 10]\n",
    "    return random.choice(cards)\n",
    "\n",
    "def calculate_score(cards):\n",
    "    \"\"\"Calculate the total score of a hand.\"\"\"\n",
    "    if sum(cards) == 21 and len(cards) == 2:\n",
    "        return 0  # Blackjack (ace and 10-value card)\n",
    "    \n",
    "    if 11 in cards and sum(cards) > 21:\n",
    "        cards.remove(11)\n",
    "        cards.append(1)  # Convert the ace from 11 to 1\n",
    "\n",
    "    return sum(cards)\n",
    "\n",
    "def compare(player_score, computer_score):\n",
    "    \"\"\"Compare the scores and determine the winner.\"\"\"\n",
    "    if player_score == computer_score:\n",
    "        return \"It's a draw!\"\n",
    "    elif computer_score == 0:\n",
    "        return \"Computer has Blackjack. You lose!\"\n",
    "    elif player_score == 0:\n",
    "        return \"Blackjack! You win!\"\n",
    "    elif player_score > 21:\n",
    "        return \"You went over. You lose!\"\n",
    "    elif computer_score > 21:\n",
    "        return \"Computer went over. You win!\"\n",
    "    elif player_score > computer_score:\n",
    "        return \"You win!\"\n",
    "    else:\n",
    "        return \"You lose!\"\n",
    "\n",
    "def play_blackjack():\n",
    "    \"\"\"Play the Blackjack game.\"\"\"\n",
    "    player_cards = [deal_card(), deal_card()]\n",
    "    computer_cards = [deal_card(), deal_card()]\n",
    "    game_over = False\n",
    "\n",
    "    while not game_over:\n",
    "        player_score = calculate_score(player_cards)\n",
    "        computer_score = calculate_score(computer_cards)\n",
    "\n",
    "        print(f\"Your cards: {player_cards}, current score: {player_score}\")\n",
    "        print(f\"Computer's first card: {computer_cards[0]}\")\n",
    "\n",
    "        if player_score == 0 or computer_score == 0 or player_score > 21:\n",
    "            game_over = True\n",
    "        else:\n",
    "            should_continue = input(\"Type 'y' to get another card, 'n' to pass: \")\n",
    "            if should_continue == 'y':\n",
    "                player_cards.append(deal_card())\n",
    "            else:\n",
    "                game_over = True\n",
    "\n",
    "    while computer_score != 0 and computer_score < 17:\n",
    "        computer_cards.append(deal_card())\n",
    "        computer_score = calculate_score(computer_cards)\n",
    "\n",
    "    print(f\"Your final hand: {player_cards}, final score: {player_score}\")\n",
    "    print(f\"Computer's final hand: {computer_cards}, final score: {computer_score}\")\n",
    "    print(compare(player_score, computer_score))\n",
    "\n",
    "if __name__ == \"__main__\":\n",
    "    play_blackjack()"
   ]
  },
  {
   "cell_type": "code",
   "execution_count": 13,
   "id": "70e4782c-31b4-48fd-94d2-36c6abea2fdd",
   "metadata": {},
   "outputs": [
    {
     "name": "stdin",
     "output_type": "stream",
     "text": [
      "Enter a number to find its prime factors:  50\n"
     ]
    },
    {
     "name": "stdout",
     "output_type": "stream",
     "text": [
      "The prime factors of 50 are: [2, 5, 5]\n"
     ]
    }
   ],
   "source": [
    "'''40. Write a program that generates the prime factors of a given number using trial division.'''\n",
    "\n",
    "def generate_prime_factors(number):\n",
    "    \"\"\"\n",
    "    Generate the prime factors of a given number using trial division.\n",
    "    \"\"\"\n",
    "    prime_factors = []\n",
    "\n",
    "    # Divide the number by 2 until it's odd\n",
    "    while number % 2 == 0:\n",
    "        prime_factors.append(2)\n",
    "        number //= 2\n",
    "\n",
    "    # Trial division for odd numbers\n",
    "    for i in range(3, int(number**0.5) + 1, 2):\n",
    "        while number % i == 0:\n",
    "            prime_factors.append(i)\n",
    "            number //= i\n",
    "\n",
    "    # If the remaining number is a prime greater than 2\n",
    "    if number > 2:\n",
    "        prime_factors.append(number)\n",
    "\n",
    "    return prime_factors\n",
    "\n",
    "def main():\n",
    "    try:\n",
    "        number = int(input(\"Enter a number to find its prime factors: \"))\n",
    "\n",
    "        if number < 2:\n",
    "            print(\"Please enter a number greater than or equal to 2.\")\n",
    "        else:\n",
    "            factors = generate_prime_factors(number)\n",
    "            print(f\"The prime factors of {number} are: {factors}\")\n",
    "\n",
    "    except ValueError:\n",
    "        print(\"Invalid input. Please enter a valid integer.\")\n",
    "\n",
    "if __name__ == \"__main__\":\n",
    "    main()"
   ]
  },
  {
   "cell_type": "code",
   "execution_count": null,
   "id": "33b9a3c9-8a82-4fe6-9e42-7f80af9ff360",
   "metadata": {},
   "outputs": [],
   "source": []
  }
 ],
 "metadata": {
  "kernelspec": {
   "display_name": "Python 3 (ipykernel)",
   "language": "python",
   "name": "python3"
  },
  "language_info": {
   "codemirror_mode": {
    "name": "ipython",
    "version": 3
   },
   "file_extension": ".py",
   "mimetype": "text/x-python",
   "name": "python",
   "nbconvert_exporter": "python",
   "pygments_lexer": "ipython3",
   "version": "3.10.8"
  }
 },
 "nbformat": 4,
 "nbformat_minor": 5
}
